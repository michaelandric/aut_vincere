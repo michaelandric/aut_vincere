{
 "cells": [
  {
   "cell_type": "code",
   "execution_count": 348,
   "metadata": {
    "collapsed": false
   },
   "outputs": [],
   "source": [
    "import time\n",
    "from selenium import webdriver\n",
    "from selenium.common.exceptions import TimeoutException\n",
    "from selenium.common.exceptions import NoSuchElementException\n",
    "from selenium.webdriver.support.ui import WebDriverWait # available since 2.4.0\n",
    "from selenium.webdriver.support import expected_conditions as EC # available since 2.26.0\n",
    "from selenium.webdriver.common.keys import Keys\n",
    "from selenium.webdriver.common.by import By\n",
    "from bs4 import BeautifulSoup\n",
    "from playerinfo import PlayerInfo\n",
    "import re\n",
    "from pprint import pprint\n",
    "\n",
    "\n",
    "def get_roster(idx):\n",
    "    player_table = soup.find_all(\n",
    "        'table', class_='playerTableTable')[idx].find_all('tr', 'pncPlayerRow')\n",
    "    roster_list = []\n",
    "    for n in range(len(player_table)):\n",
    "        try:\n",
    "            player = str(player_table[n].a).split('>')[1].split('</a')[0]\n",
    "            roster_list.append(player)\n",
    "        except (IndexError):\n",
    "            pass\n",
    "    return roster_list\n",
    "\n",
    "\n",
    "def return_rosters(espn_league_url=None):\n",
    "    \"\"\"\n",
    "    Will ask you to enter username and password for the espn fantasy login.\n",
    "    \"\"\"\n",
    "    if espn_league_url is None:\n",
    "        espn_league_url = \"http://games.espn.com/fba/leagueoffice?leagueId=133847&seasonId=2017\"\n",
    "    driver = webdriver.Chrome()\n",
    "\n",
    "    driver.get(espn_league_url)\n",
    "    #implement wait it is mandatory in this case\n",
    "    WebDriverWait(driver,1000).until(EC.presence_of_all_elements_located((By.XPATH,\"(//iframe)\")))\n",
    "    frms = driver.find_elements_by_xpath(\"(//iframe)\")\n",
    "\n",
    "    driver.switch_to_frame(frms[2])\n",
    "    time.sleep(2)\n",
    "    driver.find_element_by_xpath(\"(//input)[1]\").send_keys(input(\"username: \"))\n",
    "    driver.find_element_by_xpath(\"(//input)[2]\").send_keys(input(\"password: \"))\n",
    "    driver.find_element_by_xpath(\"//button\").click()\n",
    "    driver.switch_to_default_content()\n",
    "    time.sleep(4)\n",
    "\n",
    "    rosters_button = driver.find_elements_by_xpath(\"//ul[@id='games-subnav-links']/*\")[3]\n",
    "    rosters_button.click()\n",
    "\n",
    "    html = driver.page_source\n",
    "    soup = BeautifulSoup(html, 'html.parser')\n",
    "\n",
    "    team_names = []\n",
    "    team_ids = range(1, 11)\n",
    "    for tag in soup.find_all('tr', class_='playerTableBgRowHead'):\n",
    "        team_names.append(str(tag.a).split('>')[1].split('<')[0].lower())\n",
    "\n",
    "\n",
    "    roster_dict = {}\n",
    "    for i, team in enumerate(team_names):\n",
    "        roster_dict[team] = get_roster(i)\n",
    "\n",
    "    driver.close()\n",
    "    \n",
    "    return roster_dict"
   ]
  },
  {
   "cell_type": "code",
   "execution_count": 349,
   "metadata": {
    "collapsed": false
   },
   "outputs": [
    {
     "name": "stdout",
     "output_type": "stream",
     "text": [
      "username: michaelandric\n"
     ]
    }
   ],
   "source": [
    "leaguerosters = return_rosters()"
   ]
  },
  {
   "cell_type": "code",
   "execution_count": 350,
   "metadata": {
    "collapsed": false
   },
   "outputs": [
    {
     "name": "stdout",
     "output_type": "stream",
     "text": [
      "paul george, john and ...\n",
      "accidental twitter hog\n",
      "conquest pain\n",
      "no look no pass\n",
      "ian banh mahinmi\n",
      "what the blood clot\n",
      "sami's mannschaft\n",
      "delonte's donuts\n",
      "conor's turpentines\n",
      "soccer karate\n"
     ]
    }
   ],
   "source": [
    "for team in leaguerosters:\n",
    "    print(team)"
   ]
  },
  {
   "cell_type": "code",
   "execution_count": 351,
   "metadata": {
    "collapsed": false
   },
   "outputs": [
    {
     "data": {
      "text/plain": [
       "['Dennis Schroder',\n",
       " 'Nicolas Batum',\n",
       " 'Jabari Parker',\n",
       " 'Derrick Favors',\n",
       " 'Pau Gasol',\n",
       " 'Ricky Rubio',\n",
       " 'Trevor Ariza',\n",
       " 'LaMarcus Aldridge',\n",
       " 'Thaddeus Young',\n",
       " 'Mason Plumlee',\n",
       " 'Kristaps Porzingis',\n",
       " 'Carmelo Anthony',\n",
       " 'Robert Covington',\n",
       " 'Nerlens Noel']"
      ]
     },
     "execution_count": 351,
     "metadata": {},
     "output_type": "execute_result"
    }
   ],
   "source": [
    "leaguerosters['paul george, john and ...']"
   ]
  }
 ],
 "metadata": {
  "kernelspec": {
   "display_name": "Python 3",
   "language": "python",
   "name": "python3"
  },
  "language_info": {
   "codemirror_mode": {
    "name": "ipython",
    "version": 3
   },
   "file_extension": ".py",
   "mimetype": "text/x-python",
   "name": "python",
   "nbconvert_exporter": "python",
   "pygments_lexer": "ipython3",
   "version": "3.5.1"
  }
 },
 "nbformat": 4,
 "nbformat_minor": 0
}
