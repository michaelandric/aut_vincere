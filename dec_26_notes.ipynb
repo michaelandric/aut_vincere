{
 "cells": [
  {
   "cell_type": "code",
   "execution_count": 1,
   "metadata": {
    "collapsed": true
   },
   "outputs": [],
   "source": [
    "import numpy as np\n",
    "import pandas as pd\n",
    "import warnings\n",
    "import codecs\n",
    "import os\n",
    "\n",
    "import aut_vinc_bballCrawler as bc"
   ]
  },
  {
   "cell_type": "markdown",
   "metadata": {},
   "source": [
    "## Get 2017 data"
   ]
  },
  {
   "cell_type": "code",
   "execution_count": 2,
   "metadata": {
    "collapsed": false,
    "scrolled": true
   },
   "outputs": [
    {
     "name": "stderr",
     "output_type": "stream",
     "text": [
      "/Users/andric/anaconda/envs/py35/lib/python3.5/site-packages/ipykernel/__main__.py:13: SettingWithCopyWarning: \n",
      "A value is trying to be set on a copy of a slice from a DataFrame\n",
      "\n",
      "See the caveats in the documentation: http://pandas.pydata.org/pandas-docs/stable/indexing.html#indexing-view-versus-copy\n"
     ]
    },
    {
     "data": {
      "text/html": [
       "<div>\n",
       "<table border=\"1\" class=\"dataframe\">\n",
       "  <thead>\n",
       "    <tr style=\"text-align: right;\">\n",
       "      <th></th>\n",
       "      <th>wk</th>\n",
       "      <th>season</th>\n",
       "      <th>fg.</th>\n",
       "      <th>ft.</th>\n",
       "      <th>X3p</th>\n",
       "      <th>trb</th>\n",
       "      <th>ast</th>\n",
       "      <th>stl</th>\n",
       "      <th>blk</th>\n",
       "      <th>tov</th>\n",
       "      <th>pts</th>\n",
       "    </tr>\n",
       "  </thead>\n",
       "  <tbody>\n",
       "    <tr>\n",
       "      <th>count</th>\n",
       "      <td>460.000000</td>\n",
       "      <td>460.000000</td>\n",
       "      <td>460.000000</td>\n",
       "      <td>460.000000</td>\n",
       "      <td>460.000000</td>\n",
       "      <td>460.000000</td>\n",
       "      <td>460.000000</td>\n",
       "      <td>460.000000</td>\n",
       "      <td>460.000000</td>\n",
       "      <td>460.000000</td>\n",
       "      <td>460.000000</td>\n",
       "    </tr>\n",
       "    <tr>\n",
       "      <th>mean</th>\n",
       "      <td>8.826087</td>\n",
       "      <td>1.782609</td>\n",
       "      <td>0.456854</td>\n",
       "      <td>0.773863</td>\n",
       "      <td>45.617391</td>\n",
       "      <td>241.591304</td>\n",
       "      <td>134.600000</td>\n",
       "      <td>42.645652</td>\n",
       "      <td>27.430435</td>\n",
       "      <td>12.732987</td>\n",
       "      <td>619.800000</td>\n",
       "    </tr>\n",
       "    <tr>\n",
       "      <th>std</th>\n",
       "      <td>5.282042</td>\n",
       "      <td>0.750107</td>\n",
       "      <td>0.023615</td>\n",
       "      <td>0.047178</td>\n",
       "      <td>13.864318</td>\n",
       "      <td>38.307982</td>\n",
       "      <td>23.969861</td>\n",
       "      <td>9.151978</td>\n",
       "      <td>8.888902</td>\n",
       "      <td>2.372693</td>\n",
       "      <td>88.323351</td>\n",
       "    </tr>\n",
       "    <tr>\n",
       "      <th>min</th>\n",
       "      <td>1.000000</td>\n",
       "      <td>1.000000</td>\n",
       "      <td>0.381200</td>\n",
       "      <td>0.611900</td>\n",
       "      <td>14.000000</td>\n",
       "      <td>132.000000</td>\n",
       "      <td>73.000000</td>\n",
       "      <td>19.000000</td>\n",
       "      <td>7.000000</td>\n",
       "      <td>8.264463</td>\n",
       "      <td>363.000000</td>\n",
       "    </tr>\n",
       "    <tr>\n",
       "      <th>25%</th>\n",
       "      <td>4.000000</td>\n",
       "      <td>1.000000</td>\n",
       "      <td>0.440650</td>\n",
       "      <td>0.743500</td>\n",
       "      <td>35.000000</td>\n",
       "      <td>213.750000</td>\n",
       "      <td>118.000000</td>\n",
       "      <td>37.000000</td>\n",
       "      <td>21.000000</td>\n",
       "      <td>11.111111</td>\n",
       "      <td>563.000000</td>\n",
       "    </tr>\n",
       "    <tr>\n",
       "      <th>50%</th>\n",
       "      <td>8.000000</td>\n",
       "      <td>2.000000</td>\n",
       "      <td>0.456550</td>\n",
       "      <td>0.778600</td>\n",
       "      <td>45.000000</td>\n",
       "      <td>239.000000</td>\n",
       "      <td>133.500000</td>\n",
       "      <td>42.000000</td>\n",
       "      <td>27.000000</td>\n",
       "      <td>12.345679</td>\n",
       "      <td>621.000000</td>\n",
       "    </tr>\n",
       "    <tr>\n",
       "      <th>75%</th>\n",
       "      <td>13.000000</td>\n",
       "      <td>2.000000</td>\n",
       "      <td>0.474700</td>\n",
       "      <td>0.808650</td>\n",
       "      <td>54.000000</td>\n",
       "      <td>268.250000</td>\n",
       "      <td>150.250000</td>\n",
       "      <td>48.000000</td>\n",
       "      <td>33.000000</td>\n",
       "      <td>13.888889</td>\n",
       "      <td>672.250000</td>\n",
       "    </tr>\n",
       "    <tr>\n",
       "      <th>max</th>\n",
       "      <td>19.000000</td>\n",
       "      <td>3.000000</td>\n",
       "      <td>0.520700</td>\n",
       "      <td>0.882000</td>\n",
       "      <td>90.000000</td>\n",
       "      <td>355.000000</td>\n",
       "      <td>205.000000</td>\n",
       "      <td>78.000000</td>\n",
       "      <td>64.000000</td>\n",
       "      <td>23.809524</td>\n",
       "      <td>920.000000</td>\n",
       "    </tr>\n",
       "  </tbody>\n",
       "</table>\n",
       "</div>"
      ],
      "text/plain": [
       "               wk      season         fg.         ft.         X3p         trb  \\\n",
       "count  460.000000  460.000000  460.000000  460.000000  460.000000  460.000000   \n",
       "mean     8.826087    1.782609    0.456854    0.773863   45.617391  241.591304   \n",
       "std      5.282042    0.750107    0.023615    0.047178   13.864318   38.307982   \n",
       "min      1.000000    1.000000    0.381200    0.611900   14.000000  132.000000   \n",
       "25%      4.000000    1.000000    0.440650    0.743500   35.000000  213.750000   \n",
       "50%      8.000000    2.000000    0.456550    0.778600   45.000000  239.000000   \n",
       "75%     13.000000    2.000000    0.474700    0.808650   54.000000  268.250000   \n",
       "max     19.000000    3.000000    0.520700    0.882000   90.000000  355.000000   \n",
       "\n",
       "              ast         stl         blk         tov         pts  \n",
       "count  460.000000  460.000000  460.000000  460.000000  460.000000  \n",
       "mean   134.600000   42.645652   27.430435   12.732987  619.800000  \n",
       "std     23.969861    9.151978    8.888902    2.372693   88.323351  \n",
       "min     73.000000   19.000000    7.000000    8.264463  363.000000  \n",
       "25%    118.000000   37.000000   21.000000   11.111111  563.000000  \n",
       "50%    133.500000   42.000000   27.000000   12.345679  621.000000  \n",
       "75%    150.250000   48.000000   33.000000   13.888889  672.250000  \n",
       "max    205.000000   78.000000   64.000000   23.809524  920.000000  "
      ]
     },
     "execution_count": 2,
     "metadata": {},
     "output_type": "execute_result"
    }
   ],
   "source": [
    "pergame = bc.getSoupFromURL('http://www.basketball-reference.com/leagues/NBA_2017_per_game.html')\n",
    "pg = pergame.findAll('table')\n",
    "header = []\n",
    "for th in pg[0].findAll('th'):\n",
    "    if not th.getText() in header:\n",
    "        header.append(th.getText())\n",
    "rows = pg[0].findAll('tr')[1:]  # all rows but the header\n",
    "rows = [r for r in rows if len(r.findAll('td')) > 0]\n",
    "parsed_table = [[col.getText() for col in row.findAll('td')] for row in rows]\n",
    "ptable = pd.io.parsers.TextParser(parsed_table, names=header[1:30], index_col=0).get_chunk()\n",
    "# invert the turnover metric\n",
    "ptable.TOV = 1/ptable.TOV\n",
    "ptable.TOV[np.isinf(ptable.TOV)] = ptable.TOV[~np.isinf(ptable.TOV)].mean()\n",
    "ptable.replace(np.nan, 0, inplace=True)\n",
    "feature_vec = ['FG%','FT%','3P','TRB','AST','STL','BLK','TOV','PS/G']\n",
    "\n",
    "bt = pd.read_excel('autvinc_table.xlsx')\n",
    "bt.tov = (1/bt.tov)*(10**3)\n",
    "bt.describe()"
   ]
  },
  {
   "cell_type": "code",
   "execution_count": 3,
   "metadata": {
    "collapsed": true
   },
   "outputs": [],
   "source": [
    "from sklearn.cross_validation import train_test_split\n",
    "from sklearn.preprocessing import LabelEncoder\n",
    "from sklearn.preprocessing import StandardScaler"
   ]
  },
  {
   "cell_type": "code",
   "execution_count": 365,
   "metadata": {
    "collapsed": false
   },
   "outputs": [],
   "source": [
    "X = np.array(bt.iloc[:,3:])\n",
    "ss = StandardScaler()\n",
    "ssX = ss.fit_transform(X)\n",
    "labels = []\n",
    "for i in range(0, X.shape[0], 2):\n",
    "    if len(np.where((X[i, :] - X[i+1,:]) > 0)[0]) > 5:\n",
    "        labels.append('win')\n",
    "        labels.append('loss')\n",
    "    else:\n",
    "        labels.append('loss')\n",
    "        labels.append('win')\n",
    "\n",
    "le = LabelEncoder()\n",
    "y = le.fit_transform(np.array(labels))\n",
    "X_train, X_test, y_train, y_test = train_test_split(ssX, y,\n",
    "                                                    test_size=0.2)"
   ]
  },
  {
   "cell_type": "code",
   "execution_count": 366,
   "metadata": {
    "collapsed": false
   },
   "outputs": [
    {
     "name": "stdout",
     "output_type": "stream",
     "text": [
      "  1) PS/G                           0.149025\n",
      "  2) FG%                            0.143269\n",
      "  3) AST                            0.119247\n",
      "  4) FT%                            0.105739\n",
      "  5) 3P                             0.103758\n",
      "  6) TRB                            0.102737\n",
      "  7) BLK                            0.098798\n",
      "  8) STL                            0.090016\n",
      "  9) TOV                            0.087411\n"
     ]
    }
   ],
   "source": [
    "from sklearn.ensemble import RandomForestClassifier\n",
    "feat_labels = feature_vec\n",
    "forest = RandomForestClassifier(n_estimators=25, n_jobs=-1, criterion='entropy')\n",
    "forest.fit(X_train, y_train)\n",
    "\n",
    "importances = forest.feature_importances_\n",
    "indices = np.argsort(importances)[::-1]\n",
    "for f in range(X_train.shape[1]):\n",
    "    print(\"%3d) %-*s %f\" % (f+1, 30, feat_labels[indices[f]], importances[indices[f]]))"
   ]
  },
  {
   "cell_type": "code",
   "execution_count": null,
   "metadata": {
    "collapsed": true
   },
   "outputs": [],
   "source": []
  },
  {
   "cell_type": "code",
   "execution_count": 297,
   "metadata": {
    "collapsed": false
   },
   "outputs": [],
   "source": [
    "from sklearn.metrics import accuracy_score"
   ]
  },
  {
   "cell_type": "code",
   "execution_count": 367,
   "metadata": {
    "collapsed": false
   },
   "outputs": [
    {
     "name": "stdout",
     "output_type": "stream",
     "text": [
      "Train/test accuracies: 0.997/0.620\n"
     ]
    }
   ],
   "source": [
    "y_train_pred = forest.predict(X_train)\n",
    "y_test_pred = forest.predict(X_test)\n",
    "forest_train = accuracy_score(y_train, y_train_pred)\n",
    "forest_test = accuracy_score(y_test, y_test_pred)\n",
    "print('Train/test accuracies: %.3f/%.3f' % (forest_train, forest_test))"
   ]
  },
  {
   "cell_type": "markdown",
   "metadata": {},
   "source": [
    "## SVC and tuning"
   ]
  },
  {
   "cell_type": "code",
   "execution_count": 8,
   "metadata": {
    "collapsed": true
   },
   "outputs": [],
   "source": [
    "from sklearn.decomposition import PCA\n",
    "from sklearn.pipeline import Pipeline\n",
    "from sklearn.preprocessing import StandardScaler\n",
    "from sklearn.grid_search import GridSearchCV\n",
    "from sklearn.svm import SVC\n",
    "from sklearn.cross_validation import cross_val_score"
   ]
  },
  {
   "cell_type": "code",
   "execution_count": 368,
   "metadata": {
    "collapsed": false
   },
   "outputs": [
    {
     "name": "stdout",
     "output_type": "stream",
     "text": [
      "{'clf__C': 0.01, 'pca__n_components': 3, 'clf__kernel': 'linear'}\n",
      "Pipeline(steps=[('pca', PCA(copy=True, n_components=3, whiten=False)), ('clf', SVC(C=0.01, cache_size=200, class_weight=None, coef0=0.0,\n",
      "  decision_function_shape=None, degree=3, gamma='auto', kernel='linear',\n",
      "  max_iter=-1, probability=True, random_state=None, shrinking=True,\n",
      "  tol=0.001, verbose=False))])\n",
      "Best score: 0.655\n",
      "CV accuracy 0.676 +/- 0.113\n"
     ]
    }
   ],
   "source": [
    "pipe_svc = Pipeline([('pca', PCA()),\n",
    "                     ('clf', SVC(probability=True))])\n",
    "\n",
    "param_range = [10**-4, 10**-3, 10**-2, 10**-1, 1.0, 10.0, 10**2]\n",
    "param_grid = [{'pca__n_components': [3, 4, 5],\n",
    "               'clf__C': param_range,\n",
    "               'clf__kernel': ['linear']},\n",
    "              {'pca__n_components': [3, 4, 5],\n",
    "               'clf__C': param_range,\n",
    "               'clf__gamma': param_range,\n",
    "               'clf__kernel': ['rbf']}]\n",
    "gs = GridSearchCV(estimator=pipe_svc,\n",
    "                 param_grid=param_grid,\n",
    "                 scoring='accuracy',\n",
    "                 cv=5,\n",
    "                 n_jobs=-1)\n",
    "gsfit = gs.fit(X_train, y_train)\n",
    "print(gsfit.best_params_)\n",
    "print(gsfit.best_estimator_)\n",
    "print('Best score: %.3f' % gsfit.best_score_)\n",
    "scores = cross_val_score(gsfit.best_estimator_, X=X_test, y=y_test, cv=10, n_jobs=-1)\n",
    "print('CV accuracy %.3f +/- %.3f' % (np.mean(scores), np.std(scores)))"
   ]
  },
  {
   "cell_type": "code",
   "execution_count": 369,
   "metadata": {
    "collapsed": false
   },
   "outputs": [
    {
     "name": "stdout",
     "output_type": "stream",
     "text": [
      "{'C': 0.01, 'kernel': 'linear'}\n",
      "SVC(C=0.01, cache_size=200, class_weight=None, coef0=0.0,\n",
      "  decision_function_shape=None, degree=3, gamma='auto', kernel='linear',\n",
      "  max_iter=-1, probability=True, random_state=None, shrinking=True,\n",
      "  tol=0.001, verbose=False)\n",
      "Best score: 0.652\n",
      "CV accuracy 0.676 +/- 0.123\n"
     ]
    }
   ],
   "source": [
    "svc = SVC(probability=True)\n",
    "\n",
    "param_range = [10**-4, 10**-3, 10**-2, 10**-1, 1.0, 10.0, 10**2]\n",
    "param_grid = [{'C': param_range,\n",
    "               'kernel': ['linear']},\n",
    "              {'C': param_range,\n",
    "               'gamma': param_range,\n",
    "               'kernel': ['rbf']}]\n",
    "gs = GridSearchCV(estimator=svc,\n",
    "                 param_grid=param_grid,\n",
    "                 scoring='accuracy',\n",
    "                 cv=5,\n",
    "                 n_jobs=-1)\n",
    "gsfit = gs.fit(X_train, y_train)\n",
    "print(gsfit.best_params_)\n",
    "print(gsfit.best_estimator_)\n",
    "print('Best score: %.3f' % gsfit.best_score_)\n",
    "scores = cross_val_score(gsfit.best_estimator_, X=X_test, y=y_test, cv=10, n_jobs=-1)\n",
    "print('CV accuracy %.3f +/- %.3f' % (np.mean(scores), np.std(scores)))"
   ]
  },
  {
   "cell_type": "code",
   "execution_count": 370,
   "metadata": {
    "collapsed": false
   },
   "outputs": [
    {
     "name": "stdout",
     "output_type": "stream",
     "text": [
      "SVC acc: 0.663 +/- 0.124\n"
     ]
    }
   ],
   "source": [
    "svc = SVC(C=10, gamma=.001, kernel='rbf', probability=True)\n",
    "svc.fit(X_train, y_train)\n",
    "svcscores = cross_val_score(svc, X=X_test, y=y_test, cv=10, n_jobs=-1)\n",
    "print('SVC acc: %.3f +/- %.3f' % (np.mean(svcscores), np.std(svcscores)))"
   ]
  },
  {
   "cell_type": "markdown",
   "metadata": {},
   "source": [
    "## Get league rosters"
   ]
  },
  {
   "cell_type": "code",
   "execution_count": 312,
   "metadata": {
    "collapsed": false,
    "scrolled": true
   },
   "outputs": [
    {
     "name": "stdout",
     "output_type": "stream",
     "text": [
      "username: ········\n",
      "password: ········\n"
     ]
    },
    {
     "data": {
      "text/html": [
       "<div>\n",
       "<table border=\"1\" class=\"dataframe\">\n",
       "  <thead>\n",
       "    <tr style=\"text-align: right;\">\n",
       "      <th></th>\n",
       "      <th>Player</th>\n",
       "      <th>FG%</th>\n",
       "      <th>FT%</th>\n",
       "      <th>3P</th>\n",
       "      <th>TRB</th>\n",
       "      <th>AST</th>\n",
       "      <th>STL</th>\n",
       "      <th>BLK</th>\n",
       "      <th>TOV</th>\n",
       "      <th>PS/G</th>\n",
       "    </tr>\n",
       "  </thead>\n",
       "  <tbody>\n",
       "    <tr>\n",
       "      <th>0</th>\n",
       "      <td>Kemba Walker</td>\n",
       "      <td>0.454</td>\n",
       "      <td>0.806</td>\n",
       "      <td>2.6</td>\n",
       "      <td>3.9</td>\n",
       "      <td>5.5</td>\n",
       "      <td>1.4</td>\n",
       "      <td>0.2</td>\n",
       "      <td>0.454545</td>\n",
       "      <td>22.3</td>\n",
       "    </tr>\n",
       "    <tr>\n",
       "      <th>1</th>\n",
       "      <td>Gary Harris</td>\n",
       "      <td>0.481</td>\n",
       "      <td>0.688</td>\n",
       "      <td>1.2</td>\n",
       "      <td>3.0</td>\n",
       "      <td>2.7</td>\n",
       "      <td>0.8</td>\n",
       "      <td>0.3</td>\n",
       "      <td>1.111111</td>\n",
       "      <td>12.5</td>\n",
       "    </tr>\n",
       "    <tr>\n",
       "      <th>2</th>\n",
       "      <td>Giannis Antetokounmpo</td>\n",
       "      <td>0.526</td>\n",
       "      <td>0.789</td>\n",
       "      <td>0.7</td>\n",
       "      <td>9.1</td>\n",
       "      <td>5.8</td>\n",
       "      <td>2.0</td>\n",
       "      <td>1.9</td>\n",
       "      <td>0.333333</td>\n",
       "      <td>23.4</td>\n",
       "    </tr>\n",
       "    <tr>\n",
       "      <th>3</th>\n",
       "      <td>Joel Embiid</td>\n",
       "      <td>0.468</td>\n",
       "      <td>0.765</td>\n",
       "      <td>1.2</td>\n",
       "      <td>7.4</td>\n",
       "      <td>1.7</td>\n",
       "      <td>0.7</td>\n",
       "      <td>2.4</td>\n",
       "      <td>0.270270</td>\n",
       "      <td>18.7</td>\n",
       "    </tr>\n",
       "    <tr>\n",
       "      <th>4</th>\n",
       "      <td>Brandon Knight</td>\n",
       "      <td>0.394</td>\n",
       "      <td>0.850</td>\n",
       "      <td>1.0</td>\n",
       "      <td>2.8</td>\n",
       "      <td>2.7</td>\n",
       "      <td>0.6</td>\n",
       "      <td>0.0</td>\n",
       "      <td>0.500000</td>\n",
       "      <td>13.3</td>\n",
       "    </tr>\n",
       "    <tr>\n",
       "      <th>5</th>\n",
       "      <td>Kevin Durant</td>\n",
       "      <td>0.538</td>\n",
       "      <td>0.870</td>\n",
       "      <td>1.9</td>\n",
       "      <td>8.6</td>\n",
       "      <td>4.5</td>\n",
       "      <td>1.2</td>\n",
       "      <td>1.5</td>\n",
       "      <td>0.476190</td>\n",
       "      <td>26.2</td>\n",
       "    </tr>\n",
       "    <tr>\n",
       "      <th>6</th>\n",
       "      <td>Myles Turner</td>\n",
       "      <td>0.530</td>\n",
       "      <td>0.794</td>\n",
       "      <td>0.6</td>\n",
       "      <td>7.3</td>\n",
       "      <td>1.0</td>\n",
       "      <td>0.7</td>\n",
       "      <td>2.4</td>\n",
       "      <td>0.714286</td>\n",
       "      <td>15.3</td>\n",
       "    </tr>\n",
       "    <tr>\n",
       "      <th>7</th>\n",
       "      <td>Patty Mills</td>\n",
       "      <td>0.482</td>\n",
       "      <td>0.929</td>\n",
       "      <td>2.1</td>\n",
       "      <td>1.9</td>\n",
       "      <td>3.6</td>\n",
       "      <td>0.9</td>\n",
       "      <td>0.0</td>\n",
       "      <td>0.714286</td>\n",
       "      <td>11.1</td>\n",
       "    </tr>\n",
       "    <tr>\n",
       "      <th>8</th>\n",
       "      <td>Rudy Gobert</td>\n",
       "      <td>0.698</td>\n",
       "      <td>0.678</td>\n",
       "      <td>0.0</td>\n",
       "      <td>11.9</td>\n",
       "      <td>0.9</td>\n",
       "      <td>0.6</td>\n",
       "      <td>2.6</td>\n",
       "      <td>0.625000</td>\n",
       "      <td>12.5</td>\n",
       "    </tr>\n",
       "    <tr>\n",
       "      <th>9</th>\n",
       "      <td>Josh Richardson</td>\n",
       "      <td>0.373</td>\n",
       "      <td>0.750</td>\n",
       "      <td>1.6</td>\n",
       "      <td>3.1</td>\n",
       "      <td>2.2</td>\n",
       "      <td>0.7</td>\n",
       "      <td>0.4</td>\n",
       "      <td>0.769231</td>\n",
       "      <td>10.1</td>\n",
       "    </tr>\n",
       "    <tr>\n",
       "      <th>10</th>\n",
       "      <td>Patrick Beverley</td>\n",
       "      <td>0.427</td>\n",
       "      <td>0.750</td>\n",
       "      <td>1.6</td>\n",
       "      <td>6.2</td>\n",
       "      <td>4.5</td>\n",
       "      <td>1.5</td>\n",
       "      <td>0.5</td>\n",
       "      <td>0.666667</td>\n",
       "      <td>8.9</td>\n",
       "    </tr>\n",
       "    <tr>\n",
       "      <th>11</th>\n",
       "      <td>Chris Paul</td>\n",
       "      <td>0.463</td>\n",
       "      <td>0.872</td>\n",
       "      <td>2.0</td>\n",
       "      <td>5.2</td>\n",
       "      <td>9.6</td>\n",
       "      <td>2.2</td>\n",
       "      <td>0.2</td>\n",
       "      <td>0.434783</td>\n",
       "      <td>17.6</td>\n",
       "    </tr>\n",
       "    <tr>\n",
       "      <th>12</th>\n",
       "      <td>Otto Porter</td>\n",
       "      <td>0.548</td>\n",
       "      <td>0.780</td>\n",
       "      <td>1.7</td>\n",
       "      <td>7.1</td>\n",
       "      <td>1.4</td>\n",
       "      <td>1.6</td>\n",
       "      <td>0.6</td>\n",
       "      <td>1.250000</td>\n",
       "      <td>14.1</td>\n",
       "    </tr>\n",
       "    <tr>\n",
       "      <th>13</th>\n",
       "      <td>Ersan Ilyasova</td>\n",
       "      <td>0.461</td>\n",
       "      <td>0.806</td>\n",
       "      <td>1.9</td>\n",
       "      <td>6.1</td>\n",
       "      <td>1.5</td>\n",
       "      <td>0.5</td>\n",
       "      <td>0.3</td>\n",
       "      <td>0.714286</td>\n",
       "      <td>13.5</td>\n",
       "    </tr>\n",
       "  </tbody>\n",
       "</table>\n",
       "</div>"
      ],
      "text/plain": [
       "                   Player    FG%    FT%   3P   TRB  AST  STL  BLK       TOV  \\\n",
       "0            Kemba Walker  0.454  0.806  2.6   3.9  5.5  1.4  0.2  0.454545   \n",
       "1             Gary Harris  0.481  0.688  1.2   3.0  2.7  0.8  0.3  1.111111   \n",
       "2   Giannis Antetokounmpo  0.526  0.789  0.7   9.1  5.8  2.0  1.9  0.333333   \n",
       "3             Joel Embiid  0.468  0.765  1.2   7.4  1.7  0.7  2.4  0.270270   \n",
       "4          Brandon Knight  0.394  0.850  1.0   2.8  2.7  0.6  0.0  0.500000   \n",
       "5            Kevin Durant  0.538  0.870  1.9   8.6  4.5  1.2  1.5  0.476190   \n",
       "6            Myles Turner  0.530  0.794  0.6   7.3  1.0  0.7  2.4  0.714286   \n",
       "7             Patty Mills  0.482  0.929  2.1   1.9  3.6  0.9  0.0  0.714286   \n",
       "8             Rudy Gobert  0.698  0.678  0.0  11.9  0.9  0.6  2.6  0.625000   \n",
       "9         Josh Richardson  0.373  0.750  1.6   3.1  2.2  0.7  0.4  0.769231   \n",
       "10       Patrick Beverley  0.427  0.750  1.6   6.2  4.5  1.5  0.5  0.666667   \n",
       "11             Chris Paul  0.463  0.872  2.0   5.2  9.6  2.2  0.2  0.434783   \n",
       "12            Otto Porter  0.548  0.780  1.7   7.1  1.4  1.6  0.6  1.250000   \n",
       "13         Ersan Ilyasova  0.461  0.806  1.9   6.1  1.5  0.5  0.3  0.714286   \n",
       "\n",
       "    PS/G  \n",
       "0   22.3  \n",
       "1   12.5  \n",
       "2   23.4  \n",
       "3   18.7  \n",
       "4   13.3  \n",
       "5   26.2  \n",
       "6   15.3  \n",
       "7   11.1  \n",
       "8   12.5  \n",
       "9   10.1  \n",
       "10   8.9  \n",
       "11  17.6  \n",
       "12  14.1  \n",
       "13  13.5  "
      ]
     },
     "execution_count": 312,
     "metadata": {},
     "output_type": "execute_result"
    }
   ],
   "source": [
    "import espn_fantasy_scrape\n",
    "rosters = espn_fantasy_scrape.return_rosters()\n",
    "\n",
    "mysquad = rosters[\"delonte\\'s donuts\"]\n",
    "for nom in mysquad:\n",
    "    if nom == 'Otto Porter Jr.':\n",
    "        mysquad.remove(nom)\n",
    "        mysquad.append('Otto Porter')\n",
    "\n",
    "ser_plyr = []\n",
    "fr_plyr = []\n",
    "my_plyr_inds = []\n",
    "for player in mysquad:\n",
    "    if type(ptable.loc[player, feature_vec]) is pd.Series:\n",
    "        ser_plyr.append(player)\n",
    "        my_plyr_inds.append(ptable.index.get_loc(player))\n",
    "    if type(ptable.loc[player, feature_vec]) is pd.DataFrame:\n",
    "        fr_plyr.append(player)\n",
    "        my_plyr_inds.append(np.where(ptable.index.get_loc(player) == True)[0][0])\n",
    "mysqd_table = ptable.loc[ser_plyr, feature_vec]\n",
    "for fplayer in fr_plyr:\n",
    "    mysqd_table = mysqd_table.append(ptable.loc[fplayer, feature_vec].iloc[0, ])\n",
    "mysqd_table = mysqd_table.reset_index()\n",
    "\n",
    "mysqd_vec = mysqd_table.loc[:, feature_vec].mean(0)\n",
    "mysqd_table"
   ]
  },
  {
   "cell_type": "code",
   "execution_count": 371,
   "metadata": {
    "collapsed": false
   },
   "outputs": [
    {
     "name": "stdout",
     "output_type": "stream",
     "text": [
      "SVC prediction: 1\n",
      "SVC predict win: 0.7773, loss: 0.2227\n"
     ]
    }
   ],
   "source": [
    "ss_ptable = ss.fit_transform(ptable.loc[:, feature_vec])\n",
    "print('SVC prediction: %d' % gsfit.predict(ss_ptable[my_plyr_inds, :].mean(0)[np.newaxis, :]))\n",
    "l, w = gsfit.predict_proba(ss_ptable[my_plyr_inds, :].mean(0)[np.newaxis, :])[0]\n",
    "print('SVC predict win: %.4f, loss: %.4f' % (w, l))"
   ]
  },
  {
   "cell_type": "code",
   "execution_count": 13,
   "metadata": {
    "collapsed": false
   },
   "outputs": [],
   "source": [
    "def roster_indices(squad, ptable):\n",
    "    \"\"\"Give roster and get player indices.\n",
    "    \n",
    "    Example input arg:\n",
    "        squad: rosters[\"sami\\'s mannschaft\"]\n",
    "        ptable: player table from basketball-reference.com\n",
    "    \"\"\"\n",
    "    plyr_inds = []\n",
    "    for player in squad:\n",
    "        if player == 'Otto Porter Jr.':\n",
    "            player = 'Otto Porter'\n",
    "        if player == 'Louis Williams':\n",
    "            player = 'Lou Williams'\n",
    "        if player == 'TJ Warren':\n",
    "            player = 'T.J. Warren'\n",
    "        if player == 'Ben Simmons':\n",
    "            continue\n",
    "        if type(ptable.loc[player, feature_vec]) is pd.Series:\n",
    "            plyr_inds.append(ptable.index.get_loc(player))\n",
    "        if type(ptable.loc[player, feature_vec]) is pd.DataFrame:\n",
    "            plyr_inds.append(np.where(ptable.index.get_loc(player) == True)[0][0])\n",
    "\n",
    "    return plyr_inds"
   ]
  },
  {
   "cell_type": "code",
   "execution_count": 14,
   "metadata": {
    "collapsed": false,
    "scrolled": true
   },
   "outputs": [
    {
     "data": {
      "text/plain": [
       "['conquest pain',\n",
       " \"conor's turpentines\",\n",
       " 'no look no pass',\n",
       " 'what the blood clot',\n",
       " 'ian banh mahinmi',\n",
       " \"sami's mannschaft\",\n",
       " \"delonte's donuts\",\n",
       " 'accidental twitter hog',\n",
       " 'paul george, john and ...',\n",
       " 'soccer karate']"
      ]
     },
     "execution_count": 14,
     "metadata": {},
     "output_type": "execute_result"
    }
   ],
   "source": [
    "list(rosters.keys())"
   ]
  },
  {
   "cell_type": "code",
   "execution_count": 372,
   "metadata": {
    "collapsed": false
   },
   "outputs": [
    {
     "name": "stdout",
     "output_type": "stream",
     "text": [
      "conquest pain SVC predict win: 0.7066, loss: 0.2934\n",
      "conor's turpentines SVC predict win: 0.7476, loss: 0.2524\n",
      "no look no pass SVC predict win: 0.7217, loss: 0.2783\n",
      "what the blood clot SVC predict win: 0.7200, loss: 0.2800\n",
      "ian banh mahinmi SVC predict win: 0.7074, loss: 0.2926\n",
      "sami's mannschaft SVC predict win: 0.7264, loss: 0.2736\n",
      "delonte's donuts SVC predict win: 0.7773, loss: 0.2227\n",
      "accidental twitter hog SVC predict win: 0.7163, loss: 0.2837\n",
      "paul george, john and ... SVC predict win: 0.6937, loss: 0.3063\n",
      "soccer karate SVC predict win: 0.7186, loss: 0.2814\n"
     ]
    }
   ],
   "source": [
    "winpct = {}\n",
    "for ros in rosters:\n",
    "    indxs = roster_indices(rosters[ros], ptable)\n",
    "    l, w = gsfit.predict_proba(ss_ptable[indxs, :].mean(0)[np.newaxis, :])[0]\n",
    "    winpct[ros] = w\n",
    "    print('%s SVC predict win: %.4f, loss: %.4f' % (ros, w, l))"
   ]
  },
  {
   "cell_type": "code",
   "execution_count": 373,
   "metadata": {
    "collapsed": false
   },
   "outputs": [
    {
     "name": "stdout",
     "output_type": "stream",
     "text": [
      "delonte's donuts SVC predict win: 0.7742\n",
      "conor's turpentines SVC predict win: 0.7393\n",
      "no look no pass SVC predict win: 0.7175\n",
      "sami's mannschaft SVC predict win: 0.7164\n",
      "soccer karate SVC predict win: 0.7093\n",
      "accidental twitter hog SVC predict win: 0.7062\n",
      "what the blood clot SVC predict win: 0.7056\n",
      "conquest pain SVC predict win: 0.6999\n",
      "ian banh mahinmi SVC predict win: 0.6978\n",
      "paul george, john and ... SVC predict win: 0.6842\n"
     ]
    }
   ],
   "source": [
    "import operator\n",
    "winpct = {}\n",
    "for ros in rosters:\n",
    "    indxs = roster_indices(rosters[ros], ptable)\n",
    "    l, w = svc.predict_proba(ss_ptable[indxs, :].mean(0)[np.newaxis, :])[0]\n",
    "    winpct[ros] = w\n",
    "    #print('%s SVC predict win: %.4f, loss: %.4f' % (ros, w, l))\n",
    "\n",
    "srtd_winpct = sorted(winpct.items(), key=operator.itemgetter(1), reverse=True)\n",
    "for tm in srtd_winpct:\n",
    "    print('%s SVC predict win: %.4f' % (tm[0], tm[1]))"
   ]
  },
  {
   "cell_type": "markdown",
   "metadata": {},
   "source": [
    "## Predicted standings"
   ]
  },
  {
   "cell_type": "code",
   "execution_count": 134,
   "metadata": {
    "collapsed": false
   },
   "outputs": [
    {
     "name": "stdout",
     "output_type": "stream",
     "text": [
      "delonte's donuts SVC predict win: 0.7797\n",
      "conor's turpentines SVC predict win: 0.7411\n",
      "soccer karate SVC predict win: 0.7243\n",
      "no look no pass SVC predict win: 0.7151\n",
      "accidental twitter hog SVC predict win: 0.7096\n",
      "sami's mannschaft SVC predict win: 0.7081\n",
      "ian banh mahinmi SVC predict win: 0.7062\n",
      "what the blood clot SVC predict win: 0.7054\n",
      "conquest pain SVC predict win: 0.7017\n",
      "paul george, john and ... SVC predict win: 0.6836\n"
     ]
    }
   ],
   "source": [
    "import operator\n",
    "srtd_winpct = sorted(winpct.items(), key=operator.itemgetter(1), reverse=True)\n",
    "for tm in srtd_winpct:\n",
    "    print('%s SVC predict win: %.4f' % (tm[0], tm[1]))"
   ]
  },
  {
   "cell_type": "markdown",
   "metadata": {
    "collapsed": true
   },
   "source": [
    "## logistic regression"
   ]
  },
  {
   "cell_type": "code",
   "execution_count": 201,
   "metadata": {
    "collapsed": false
   },
   "outputs": [
    {
     "name": "stdout",
     "output_type": "stream",
     "text": [
      "Test accuracy: 0.609\n",
      "CV accuracy 0.657 +/- 0.052\n"
     ]
    }
   ],
   "source": [
    "from sklearn.decomposition import PCA\n",
    "from sklearn.linear_model import LogisticRegression\n",
    "from sklearn.pipeline import Pipeline\n",
    "from sklearn.cross_validation import cross_val_score\n",
    "\n",
    "\n",
    "pipe_lr = Pipeline([('pca', PCA()),\n",
    "                   ('clf', LogisticRegression())])\n",
    "pipe_lr.fit(X_train, y_train)\n",
    "print('Test accuracy: %.3f' % pipe_lr.score(X_test, y_test))\n",
    "scores = cross_val_score(estimator=pipe_lr, X=ssX, y=y, cv=5, n_jobs=-1)\n",
    "print('CV accuracy %.3f +/- %.3f' % (np.mean(scores), np.std(scores)))"
   ]
  },
  {
   "cell_type": "code",
   "execution_count": 287,
   "metadata": {
    "collapsed": false
   },
   "outputs": [
    {
     "name": "stdout",
     "output_type": "stream",
     "text": [
      "logistic regression accuracy: 0.646 +/- 0.052\n"
     ]
    }
   ],
   "source": [
    "lr = LogisticRegression()\n",
    "#lr.fit(X_train, y_train)\n",
    "scores = cross_val_score(estimator=lr, X=ssX, y=y, cv=10, n_jobs=-1)\n",
    "print('logistic regression accuracy: %.3f +/- %.3f' % (scores.mean(), scores.std()))"
   ]
  },
  {
   "cell_type": "code",
   "execution_count": 288,
   "metadata": {
    "collapsed": false
   },
   "outputs": [
    {
     "name": "stdout",
     "output_type": "stream",
     "text": [
      "Accuracy: 0.652\n"
     ]
    }
   ],
   "source": [
    "lr.fit(X_train, y_train)\n",
    "acc_score = accuracy_score(y_test, lr.predict(X_test))\n",
    "print('Accuracy: %.3f' % (acc_score))"
   ]
  },
  {
   "cell_type": "markdown",
   "metadata": {},
   "source": [
    "## Gradient boosting classifier"
   ]
  },
  {
   "cell_type": "code",
   "execution_count": 24,
   "metadata": {
    "collapsed": true
   },
   "outputs": [],
   "source": [
    "from sklearn.ensemble import GradientBoostingClassifier"
   ]
  },
  {
   "cell_type": "code",
   "execution_count": 301,
   "metadata": {
    "collapsed": false
   },
   "outputs": [
    {
     "name": "stdout",
     "output_type": "stream",
     "text": [
      "CV accuracy 0.598 +/- 0.133\n",
      "  1) FG%                            0.159918\n",
      "  2) PS/G                           0.158807\n",
      "  3) AST                            0.150893\n",
      "  4) 3P                             0.112352\n",
      "  5) TRB                            0.108792\n",
      "  6) BLK                            0.104333\n",
      "  7) FT%                            0.091542\n",
      "  8) TOV                            0.081418\n",
      "  9) STL                            0.031945\n"
     ]
    }
   ],
   "source": [
    "gbe = GradientBoostingClassifier(n_estimators=25, random_state=0)\n",
    "gbefit = gbe.fit(X_train, y_train)\n",
    "scores = cross_val_score(gbefit, X=X_test, y=y_test, cv=10, n_jobs=-1)\n",
    "print('CV accuracy %.3f +/- %.3f' % (np.mean(scores), np.std(scores)))\n",
    "importances = gbefit.feature_importances_\n",
    "indices = np.argsort(importances)[::-1]\n",
    "for f in range(X_train.shape[1]):\n",
    "    print(\"%3d) %-*s %f\" % (f+1, 30, feat_labels[indices[f]], importances[indices[f]]))"
   ]
  },
  {
   "cell_type": "code",
   "execution_count": 302,
   "metadata": {
    "collapsed": false
   },
   "outputs": [
    {
     "name": "stdout",
     "output_type": "stream",
     "text": [
      "{'max_depth': 2, 'learning_rate': 0.1, 'n_estimators': 50}\n",
      "GradientBoostingClassifier(init=None, learning_rate=0.1, loss='deviance',\n",
      "              max_depth=2, max_features=None, max_leaf_nodes=None,\n",
      "              min_samples_leaf=1, min_samples_split=2,\n",
      "              min_weight_fraction_leaf=0.0, n_estimators=50,\n",
      "              presort='auto', random_state=0, subsample=1.0, verbose=0,\n",
      "              warm_start=False)\n",
      "Best score: 0.626\n",
      "CV accuracy 0.603 +/- 0.199\n"
     ]
    }
   ],
   "source": [
    "param_range = [10**-4, 10**-3, 10**-2, 10**-1, 1.0, 10.0, 10**2]\n",
    "param_grid = [{'learning_rate': [10**-4, 10**-3, 10**-2, 10**-1, 1.0, 10.0, 10**2],\n",
    "               'n_estimators': [10, 20, 30, 40, 50],\n",
    "               'max_depth': [2, 3, 4, 5, 6, 10]}]\n",
    "gbe = GradientBoostingClassifier(random_state=0)\n",
    "gs = GridSearchCV(estimator=gbe,\n",
    "                 param_grid=param_grid,\n",
    "                 scoring='accuracy',\n",
    "                 cv=5,\n",
    "                 n_jobs=-1)\n",
    "gsfit = gs.fit(X_train, y_train)\n",
    "print(gsfit.best_params_)\n",
    "print(gsfit.best_estimator_)\n",
    "print('Best score: %.3f' % gsfit.best_score_)\n",
    "scores = cross_val_score(gsfit.best_estimator_, X=X_test, y=y_test, cv=10, n_jobs=-1)\n",
    "print('CV accuracy %.3f +/- %.3f' % (np.mean(scores), np.std(scores)))"
   ]
  },
  {
   "cell_type": "code",
   "execution_count": 214,
   "metadata": {
    "collapsed": false
   },
   "outputs": [
    {
     "data": {
      "image/png": "[encoded data removed]",
      "text/plain": [
       "<matplotlib.figure.Figure at 0x120d236a0>"
      ]
     },
     "metadata": {},
     "output_type": "display_data"
    }
   ],
   "source": [
    "from sklearn.ensemble.partial_dependence import plot_partial_dependence\n",
    "import matplotlib.pyplot as plt\n",
    "%matplotlib inline\n",
    "\n",
    "fig, axs = plot_partial_dependence(gbefit, X_train,\n",
    "                                   indices[:5], feature_names=feature_vec, figsize=(10, 10))"
   ]
  },
  {
   "cell_type": "code",
   "execution_count": 311,
   "metadata": {
    "collapsed": false
   },
   "outputs": [
    {
     "name": "stdout",
     "output_type": "stream",
     "text": [
      "delonte's donuts predict win: 0.8227\n",
      "conor's turpentines predict win: 0.7683\n",
      "no look no pass predict win: 0.7608\n",
      "accidental twitter hog predict win: 0.7501\n",
      "soccer karate predict win: 0.7495\n",
      "ian banh mahinmi predict win: 0.7453\n",
      "conquest pain predict win: 0.7435\n",
      "sami's mannschaft predict win: 0.7388\n",
      "paul george, john and ... predict win: 0.7345\n",
      "what the blood clot predict win: 0.7235\n"
     ]
    }
   ],
   "source": [
    "import operator\n",
    "winpct = {}\n",
    "for ros in rosters:\n",
    "    indxs = roster_indices(rosters[ros], ptable)\n",
    "    l, w = gbefit.predict_proba(ss_ptable[indxs, :].mean(0)[np.newaxis, :])[0]\n",
    "    svcl, svcw = svc.predict_proba(ss_ptable[indxs, :].mean(0)[np.newaxis, :])[0]\n",
    "    logl, logw = lr.predict_proba(ss_ptable[indxs, :].mean(0)[np.newaxis, :])[0]\n",
    "    winpct[ros] = np.mean((w, svcw, logw))\n",
    "    #print('%s SVC predict win: %.4f, loss: %.4f' % (ros, w, l))\n",
    "\n",
    "srtd_winpct = sorted(winpct.items(), key=operator.itemgetter(1), reverse=True)\n",
    "for tm in srtd_winpct:\n",
    "    print('%s predict win: %.4f' % (tm[0], tm[1]))"
   ]
  },
  {
   "cell_type": "code",
   "execution_count": 304,
   "metadata": {
    "collapsed": false
   },
   "outputs": [
    {
     "data": {
      "text/plain": [
       "{'accidental twitter hog': 0.83911766427763013,\n",
       " \"conor's turpentines\": 0.84702650962364867,\n",
       " 'conquest pain': 0.81041781215166298,\n",
       " \"delonte's donuts\": 0.85274816939088705,\n",
       " 'ian banh mahinmi': 0.8367356612451694,\n",
       " 'no look no pass': 0.83191510383616096,\n",
       " 'paul george, john and ...': 0.79178039568211711,\n",
       " \"sami's mannschaft\": 0.77539474394912633,\n",
       " 'soccer karate': 0.79693402627361631,\n",
       " 'what the blood clot': 0.73703501564424789}"
      ]
     },
     "execution_count": 304,
     "metadata": {},
     "output_type": "execute_result"
    }
   ],
   "source": []
  }
 ],
 "metadata": {
  "kernelspec": {
   "display_name": "Python 3",
   "language": "python",
   "name": "python3"
  },
  "language_info": {
   "codemirror_mode": {
    "name": "ipython",
    "version": 3
   },
   "file_extension": ".py",
   "mimetype": "text/x-python",
   "name": "python",
   "nbconvert_exporter": "python",
   "pygments_lexer": "ipython3",
   "version": "3.5.1"
  }
 },
 "nbformat": 4,
 "nbformat_minor": 0
}
