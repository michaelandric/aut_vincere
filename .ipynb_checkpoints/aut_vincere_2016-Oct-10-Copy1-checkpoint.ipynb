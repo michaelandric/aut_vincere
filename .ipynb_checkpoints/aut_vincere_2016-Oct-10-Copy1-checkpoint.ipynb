{
 "cells": [
  {
   "cell_type": "markdown",
   "metadata": {},
   "source": [
    "# Random Forest, SVC, and Logistic Regression classifiers in fantasy basketball \n",
    "This uses a Random Forest Classifier to evaluate feature importances among the 9 head-to-head categories "
   ]
  },
  {
   "cell_type": "code",
   "execution_count": 1,
   "metadata": {
    "collapsed": true
   },
   "outputs": [],
   "source": [
    "import numpy as np\n",
    "import pandas as pd\n",
    "import warnings\n",
    "import codecs\n",
    "import os\n",
    "\n",
    "import aut_vinc_bballCrawler as bc"
   ]
  },
  {
   "cell_type": "markdown",
   "metadata": {},
   "source": [
    "### Grab data from basketball-reference.com"
   ]
  },
  {
   "cell_type": "code",
   "execution_count": 2,
   "metadata": {
    "collapsed": false,
    "scrolled": false
   },
   "outputs": [],
   "source": [
    "pergame = bc.getSoupFromURL('http://www.basketball-reference.com/leagues/NBA_2016_per_game.html')"
   ]
  },
  {
   "cell_type": "code",
   "execution_count": 3,
   "metadata": {
    "collapsed": false
   },
   "outputs": [],
   "source": [
    "pg = pergame.findAll('table')\n",
    "header = []\n",
    "for th in pg[0].findAll('th'):\n",
    "    if not th.getText() in header:\n",
    "        header.append(th.getText())\n",
    "rows = pg[0].findAll('tr')[1:]  # all rows but the header\n",
    "rows = [r for r in rows if len(r.findAll('td')) > 0]\n",
    "parsed_table = [[col.getText() for col in row.findAll('td')] for row in rows]\n",
    "ptable = pd.io.parsers.TextParser(parsed_table, names=header[1:30], index_col=0).get_chunk()\n",
    "# invert the turnover metric\n",
    "ptable.TOV = 1/ptable.TOV\n",
    "feature_vec = ['FG%','FT%','3P','TRB','AST','STL','BLK','TOV','PS/G']"
   ]
  },
  {
   "cell_type": "code",
   "execution_count": 4,
   "metadata": {
    "collapsed": false,
    "scrolled": true
   },
   "outputs": [
    {
     "name": "stderr",
     "output_type": "stream",
     "text": [
      "/Users/andric/anaconda/envs/py35/lib/python3.5/site-packages/ipykernel/__main__.py:5: SettingWithCopyWarning: \n",
      "A value is trying to be set on a copy of a slice from a DataFrame\n",
      "\n",
      "See the caveats in the documentation: http://pandas.pydata.org/pandas-docs/stable/indexing.html#indexing-view-versus-copy\n"
     ]
    }
   ],
   "source": [
    "mysquad = ['Chris Paul', 'DeMar DeRozan', 'Jeff Teague', 'DeAndre Jordan', 'Kemba Walker', 'Rodney Hood', 'Andrew Bogut', 'Myles Turner', 'Luol Deng', 'Klay Thompson', 'Gary Harris', 'Kyle Korver', 'Giannis Antetokounmpo']\n",
    "mysqd_table = ptable.loc[mysquad, feature_vec].reset_index()\n",
    "mysqd_vec = mysqd_table.loc[:, feature_vec].mean(0)\n",
    "#ptable.replace([ptable.TOV[np.isinf(ptable.TOV)]], [ptable.TOV[~np.isinf(ptable.TOV)].mean()], inplace=True)\n",
    "ptable.TOV[np.isinf(ptable.TOV)] = ptable.TOV[~np.isinf(ptable.TOV)].mean()\n",
    "ptable.replace(np.nan, 0, inplace=True)\n",
    "# ptable"
   ]
  },
  {
   "cell_type": "code",
   "execution_count": 5,
   "metadata": {
    "collapsed": false
   },
   "outputs": [
    {
     "data": {
      "text/html": [
       "<div>\n",
       "<table border=\"1\" class=\"dataframe\">\n",
       "  <thead>\n",
       "    <tr style=\"text-align: right;\">\n",
       "      <th></th>\n",
       "      <th>Player</th>\n",
       "      <th>FG%</th>\n",
       "      <th>FT%</th>\n",
       "      <th>3P</th>\n",
       "      <th>TRB</th>\n",
       "      <th>AST</th>\n",
       "      <th>STL</th>\n",
       "      <th>BLK</th>\n",
       "      <th>TOV</th>\n",
       "      <th>PS/G</th>\n",
       "    </tr>\n",
       "  </thead>\n",
       "  <tbody>\n",
       "    <tr>\n",
       "      <th>0</th>\n",
       "      <td>Chris Paul</td>\n",
       "      <td>0.462</td>\n",
       "      <td>0.896</td>\n",
       "      <td>1.6</td>\n",
       "      <td>4.2</td>\n",
       "      <td>10.0</td>\n",
       "      <td>2.1</td>\n",
       "      <td>0.2</td>\n",
       "      <td>0.384615</td>\n",
       "      <td>19.5</td>\n",
       "    </tr>\n",
       "    <tr>\n",
       "      <th>1</th>\n",
       "      <td>DeMar DeRozan</td>\n",
       "      <td>0.446</td>\n",
       "      <td>0.850</td>\n",
       "      <td>0.6</td>\n",
       "      <td>4.5</td>\n",
       "      <td>4.0</td>\n",
       "      <td>1.0</td>\n",
       "      <td>0.3</td>\n",
       "      <td>0.454545</td>\n",
       "      <td>23.5</td>\n",
       "    </tr>\n",
       "    <tr>\n",
       "      <th>2</th>\n",
       "      <td>Jeff Teague</td>\n",
       "      <td>0.439</td>\n",
       "      <td>0.837</td>\n",
       "      <td>1.4</td>\n",
       "      <td>2.7</td>\n",
       "      <td>5.9</td>\n",
       "      <td>1.2</td>\n",
       "      <td>0.3</td>\n",
       "      <td>0.357143</td>\n",
       "      <td>15.7</td>\n",
       "    </tr>\n",
       "    <tr>\n",
       "      <th>3</th>\n",
       "      <td>DeAndre Jordan</td>\n",
       "      <td>0.703</td>\n",
       "      <td>0.430</td>\n",
       "      <td>0.0</td>\n",
       "      <td>13.8</td>\n",
       "      <td>1.2</td>\n",
       "      <td>0.7</td>\n",
       "      <td>2.3</td>\n",
       "      <td>0.714286</td>\n",
       "      <td>12.7</td>\n",
       "    </tr>\n",
       "    <tr>\n",
       "      <th>4</th>\n",
       "      <td>Kemba Walker</td>\n",
       "      <td>0.427</td>\n",
       "      <td>0.847</td>\n",
       "      <td>2.2</td>\n",
       "      <td>4.4</td>\n",
       "      <td>5.2</td>\n",
       "      <td>1.6</td>\n",
       "      <td>0.5</td>\n",
       "      <td>0.476190</td>\n",
       "      <td>20.9</td>\n",
       "    </tr>\n",
       "    <tr>\n",
       "      <th>5</th>\n",
       "      <td>Rodney Hood</td>\n",
       "      <td>0.420</td>\n",
       "      <td>0.860</td>\n",
       "      <td>2.0</td>\n",
       "      <td>3.4</td>\n",
       "      <td>2.7</td>\n",
       "      <td>0.9</td>\n",
       "      <td>0.2</td>\n",
       "      <td>0.625000</td>\n",
       "      <td>14.5</td>\n",
       "    </tr>\n",
       "    <tr>\n",
       "      <th>6</th>\n",
       "      <td>Andrew Bogut</td>\n",
       "      <td>0.627</td>\n",
       "      <td>0.480</td>\n",
       "      <td>0.0</td>\n",
       "      <td>7.0</td>\n",
       "      <td>2.3</td>\n",
       "      <td>0.5</td>\n",
       "      <td>1.6</td>\n",
       "      <td>0.833333</td>\n",
       "      <td>5.4</td>\n",
       "    </tr>\n",
       "    <tr>\n",
       "      <th>7</th>\n",
       "      <td>Myles Turner</td>\n",
       "      <td>0.498</td>\n",
       "      <td>0.727</td>\n",
       "      <td>0.1</td>\n",
       "      <td>5.5</td>\n",
       "      <td>0.7</td>\n",
       "      <td>0.4</td>\n",
       "      <td>1.4</td>\n",
       "      <td>0.909091</td>\n",
       "      <td>10.3</td>\n",
       "    </tr>\n",
       "    <tr>\n",
       "      <th>8</th>\n",
       "      <td>Luol Deng</td>\n",
       "      <td>0.455</td>\n",
       "      <td>0.755</td>\n",
       "      <td>1.2</td>\n",
       "      <td>6.0</td>\n",
       "      <td>1.9</td>\n",
       "      <td>1.0</td>\n",
       "      <td>0.4</td>\n",
       "      <td>0.909091</td>\n",
       "      <td>12.3</td>\n",
       "    </tr>\n",
       "    <tr>\n",
       "      <th>9</th>\n",
       "      <td>Klay Thompson</td>\n",
       "      <td>0.470</td>\n",
       "      <td>0.873</td>\n",
       "      <td>3.5</td>\n",
       "      <td>3.8</td>\n",
       "      <td>2.1</td>\n",
       "      <td>0.8</td>\n",
       "      <td>0.6</td>\n",
       "      <td>0.588235</td>\n",
       "      <td>22.1</td>\n",
       "    </tr>\n",
       "    <tr>\n",
       "      <th>10</th>\n",
       "      <td>Gary Harris</td>\n",
       "      <td>0.469</td>\n",
       "      <td>0.820</td>\n",
       "      <td>1.4</td>\n",
       "      <td>2.9</td>\n",
       "      <td>1.9</td>\n",
       "      <td>1.3</td>\n",
       "      <td>0.2</td>\n",
       "      <td>0.769231</td>\n",
       "      <td>12.3</td>\n",
       "    </tr>\n",
       "    <tr>\n",
       "      <th>11</th>\n",
       "      <td>Kyle Korver</td>\n",
       "      <td>0.435</td>\n",
       "      <td>0.833</td>\n",
       "      <td>2.0</td>\n",
       "      <td>3.3</td>\n",
       "      <td>2.1</td>\n",
       "      <td>0.8</td>\n",
       "      <td>0.4</td>\n",
       "      <td>0.833333</td>\n",
       "      <td>9.2</td>\n",
       "    </tr>\n",
       "    <tr>\n",
       "      <th>12</th>\n",
       "      <td>Giannis Antetokounmpo</td>\n",
       "      <td>0.506</td>\n",
       "      <td>0.724</td>\n",
       "      <td>0.4</td>\n",
       "      <td>7.7</td>\n",
       "      <td>4.3</td>\n",
       "      <td>1.2</td>\n",
       "      <td>1.4</td>\n",
       "      <td>0.384615</td>\n",
       "      <td>16.9</td>\n",
       "    </tr>\n",
       "  </tbody>\n",
       "</table>\n",
       "</div>"
      ],
      "text/plain": [
       "                   Player    FG%    FT%   3P   TRB   AST  STL  BLK       TOV  \\\n",
       "0              Chris Paul  0.462  0.896  1.6   4.2  10.0  2.1  0.2  0.384615   \n",
       "1           DeMar DeRozan  0.446  0.850  0.6   4.5   4.0  1.0  0.3  0.454545   \n",
       "2             Jeff Teague  0.439  0.837  1.4   2.7   5.9  1.2  0.3  0.357143   \n",
       "3          DeAndre Jordan  0.703  0.430  0.0  13.8   1.2  0.7  2.3  0.714286   \n",
       "4            Kemba Walker  0.427  0.847  2.2   4.4   5.2  1.6  0.5  0.476190   \n",
       "5             Rodney Hood  0.420  0.860  2.0   3.4   2.7  0.9  0.2  0.625000   \n",
       "6            Andrew Bogut  0.627  0.480  0.0   7.0   2.3  0.5  1.6  0.833333   \n",
       "7            Myles Turner  0.498  0.727  0.1   5.5   0.7  0.4  1.4  0.909091   \n",
       "8               Luol Deng  0.455  0.755  1.2   6.0   1.9  1.0  0.4  0.909091   \n",
       "9           Klay Thompson  0.470  0.873  3.5   3.8   2.1  0.8  0.6  0.588235   \n",
       "10            Gary Harris  0.469  0.820  1.4   2.9   1.9  1.3  0.2  0.769231   \n",
       "11            Kyle Korver  0.435  0.833  2.0   3.3   2.1  0.8  0.4  0.833333   \n",
       "12  Giannis Antetokounmpo  0.506  0.724  0.4   7.7   4.3  1.2  1.4  0.384615   \n",
       "\n",
       "    PS/G  \n",
       "0   19.5  \n",
       "1   23.5  \n",
       "2   15.7  \n",
       "3   12.7  \n",
       "4   20.9  \n",
       "5   14.5  \n",
       "6    5.4  \n",
       "7   10.3  \n",
       "8   12.3  \n",
       "9   22.1  \n",
       "10  12.3  \n",
       "11   9.2  \n",
       "12  16.9  "
      ]
     },
     "execution_count": 5,
     "metadata": {},
     "output_type": "execute_result"
    }
   ],
   "source": [
    "# Check my squad\n",
    "mysqd_table"
   ]
  },
  {
   "cell_type": "markdown",
   "metadata": {},
   "source": [
    "### read in prior results (train and test data)"
   ]
  },
  {
   "cell_type": "code",
   "execution_count": 6,
   "metadata": {
    "collapsed": false
   },
   "outputs": [
    {
     "data": {
      "text/html": [
       "<div>\n",
       "<table border=\"1\" class=\"dataframe\">\n",
       "  <thead>\n",
       "    <tr style=\"text-align: right;\">\n",
       "      <th></th>\n",
       "      <th>wk</th>\n",
       "      <th>season</th>\n",
       "      <th>fg.</th>\n",
       "      <th>ft.</th>\n",
       "      <th>X3p</th>\n",
       "      <th>trb</th>\n",
       "      <th>ast</th>\n",
       "      <th>stl</th>\n",
       "      <th>blk</th>\n",
       "      <th>tov</th>\n",
       "      <th>pts</th>\n",
       "    </tr>\n",
       "  </thead>\n",
       "  <tbody>\n",
       "    <tr>\n",
       "      <th>count</th>\n",
       "      <td>370.000000</td>\n",
       "      <td>370.000000</td>\n",
       "      <td>370.000000</td>\n",
       "      <td>370.000000</td>\n",
       "      <td>370.000000</td>\n",
       "      <td>370.000000</td>\n",
       "      <td>370.000000</td>\n",
       "      <td>370.000000</td>\n",
       "      <td>370.000000</td>\n",
       "      <td>370.000000</td>\n",
       "      <td>370.000000</td>\n",
       "    </tr>\n",
       "    <tr>\n",
       "      <th>mean</th>\n",
       "      <td>9.756757</td>\n",
       "      <td>1.486486</td>\n",
       "      <td>0.456006</td>\n",
       "      <td>0.771721</td>\n",
       "      <td>44.070270</td>\n",
       "      <td>241.329730</td>\n",
       "      <td>134.994595</td>\n",
       "      <td>42.975676</td>\n",
       "      <td>27.456757</td>\n",
       "      <td>12.678558</td>\n",
       "      <td>614.635135</td>\n",
       "    </tr>\n",
       "    <tr>\n",
       "      <th>std</th>\n",
       "      <td>5.351622</td>\n",
       "      <td>0.500494</td>\n",
       "      <td>0.024202</td>\n",
       "      <td>0.048248</td>\n",
       "      <td>13.620303</td>\n",
       "      <td>38.088322</td>\n",
       "      <td>24.327819</td>\n",
       "      <td>8.869237</td>\n",
       "      <td>8.853797</td>\n",
       "      <td>2.422892</td>\n",
       "      <td>87.232141</td>\n",
       "    </tr>\n",
       "    <tr>\n",
       "      <th>min</th>\n",
       "      <td>1.000000</td>\n",
       "      <td>1.000000</td>\n",
       "      <td>0.381200</td>\n",
       "      <td>0.611900</td>\n",
       "      <td>14.000000</td>\n",
       "      <td>132.000000</td>\n",
       "      <td>78.000000</td>\n",
       "      <td>19.000000</td>\n",
       "      <td>7.000000</td>\n",
       "      <td>8.264463</td>\n",
       "      <td>363.000000</td>\n",
       "    </tr>\n",
       "    <tr>\n",
       "      <th>25%</th>\n",
       "      <td>5.000000</td>\n",
       "      <td>1.000000</td>\n",
       "      <td>0.439250</td>\n",
       "      <td>0.739850</td>\n",
       "      <td>34.000000</td>\n",
       "      <td>213.250000</td>\n",
       "      <td>118.000000</td>\n",
       "      <td>37.000000</td>\n",
       "      <td>22.000000</td>\n",
       "      <td>11.111111</td>\n",
       "      <td>562.000000</td>\n",
       "    </tr>\n",
       "    <tr>\n",
       "      <th>50%</th>\n",
       "      <td>10.000000</td>\n",
       "      <td>1.000000</td>\n",
       "      <td>0.455900</td>\n",
       "      <td>0.776150</td>\n",
       "      <td>43.000000</td>\n",
       "      <td>239.000000</td>\n",
       "      <td>133.000000</td>\n",
       "      <td>43.000000</td>\n",
       "      <td>27.000000</td>\n",
       "      <td>12.345679</td>\n",
       "      <td>612.500000</td>\n",
       "    </tr>\n",
       "    <tr>\n",
       "      <th>75%</th>\n",
       "      <td>14.000000</td>\n",
       "      <td>2.000000</td>\n",
       "      <td>0.474700</td>\n",
       "      <td>0.805500</td>\n",
       "      <td>52.750000</td>\n",
       "      <td>269.000000</td>\n",
       "      <td>151.000000</td>\n",
       "      <td>48.000000</td>\n",
       "      <td>33.000000</td>\n",
       "      <td>13.888889</td>\n",
       "      <td>666.750000</td>\n",
       "    </tr>\n",
       "    <tr>\n",
       "      <th>max</th>\n",
       "      <td>19.000000</td>\n",
       "      <td>2.000000</td>\n",
       "      <td>0.520700</td>\n",
       "      <td>0.882000</td>\n",
       "      <td>87.000000</td>\n",
       "      <td>355.000000</td>\n",
       "      <td>205.000000</td>\n",
       "      <td>78.000000</td>\n",
       "      <td>64.000000</td>\n",
       "      <td>23.809524</td>\n",
       "      <td>913.000000</td>\n",
       "    </tr>\n",
       "  </tbody>\n",
       "</table>\n",
       "</div>"
      ],
      "text/plain": [
       "               wk      season         fg.         ft.         X3p         trb  \\\n",
       "count  370.000000  370.000000  370.000000  370.000000  370.000000  370.000000   \n",
       "mean     9.756757    1.486486    0.456006    0.771721   44.070270  241.329730   \n",
       "std      5.351622    0.500494    0.024202    0.048248   13.620303   38.088322   \n",
       "min      1.000000    1.000000    0.381200    0.611900   14.000000  132.000000   \n",
       "25%      5.000000    1.000000    0.439250    0.739850   34.000000  213.250000   \n",
       "50%     10.000000    1.000000    0.455900    0.776150   43.000000  239.000000   \n",
       "75%     14.000000    2.000000    0.474700    0.805500   52.750000  269.000000   \n",
       "max     19.000000    2.000000    0.520700    0.882000   87.000000  355.000000   \n",
       "\n",
       "              ast         stl         blk         tov         pts  \n",
       "count  370.000000  370.000000  370.000000  370.000000  370.000000  \n",
       "mean   134.994595   42.975676   27.456757   12.678558  614.635135  \n",
       "std     24.327819    8.869237    8.853797    2.422892   87.232141  \n",
       "min     78.000000   19.000000    7.000000    8.264463  363.000000  \n",
       "25%    118.000000   37.000000   22.000000   11.111111  562.000000  \n",
       "50%    133.000000   43.000000   27.000000   12.345679  612.500000  \n",
       "75%    151.000000   48.000000   33.000000   13.888889  666.750000  \n",
       "max    205.000000   78.000000   64.000000   23.809524  913.000000  "
      ]
     },
     "execution_count": 6,
     "metadata": {},
     "output_type": "execute_result"
    }
   ],
   "source": [
    "with codecs.open('autvinc_table.csv', \"r\",encoding='utf-8', errors='ignore') as fdata:\n",
    "    bt = pd.read_csv(fdata)\n",
    "\n",
    "# invert TOV ratio\n",
    "bt.tov = (1/bt.tov)*(10**3)\n",
    "bt.describe()"
   ]
  },
  {
   "cell_type": "code",
   "execution_count": 7,
   "metadata": {
    "collapsed": true
   },
   "outputs": [],
   "source": [
    "from sklearn.cross_validation import train_test_split\n",
    "from sklearn.preprocessing import LabelEncoder\n",
    "from sklearn.preprocessing import StandardScaler"
   ]
  },
  {
   "cell_type": "code",
   "execution_count": 961,
   "metadata": {
    "collapsed": true
   },
   "outputs": [],
   "source": [
    "X = np.array(bt.iloc[:,3:])\n",
    "ss = StandardScaler()\n",
    "ssX = ss.fit_transform(X)\n",
    "labels = []\n",
    "for i in range(0, X.shape[0], 2):\n",
    "    if len(np.where((X[i, :] - X[i+1,:]) > 0)[0]) > 5:\n",
    "        labels.append('win')\n",
    "        labels.append('loss')\n",
    "    else:\n",
    "        labels.append('loss')\n",
    "        labels.append('win')\n",
    "\n",
    "le = LabelEncoder()\n",
    "y = le.fit_transform(np.array(labels))\n",
    "X_train, X_test, y_train, y_test = train_test_split(ssX, y,\n",
    "                                                    test_size=0.2)"
   ]
  },
  {
   "cell_type": "markdown",
   "metadata": {},
   "source": [
    "## Random Forest classifier"
   ]
  },
  {
   "cell_type": "code",
   "execution_count": 962,
   "metadata": {
    "collapsed": false
   },
   "outputs": [
    {
     "data": {
      "text/plain": [
       "RandomForestClassifier(bootstrap=True, class_weight=None, criterion='entropy',\n",
       "            max_depth=None, max_features='auto', max_leaf_nodes=None,\n",
       "            min_samples_leaf=1, min_samples_split=2,\n",
       "            min_weight_fraction_leaf=0.0, n_estimators=100, n_jobs=-1,\n",
       "            oob_score=False, random_state=None, verbose=0,\n",
       "            warm_start=False)"
      ]
     },
     "execution_count": 962,
     "metadata": {},
     "output_type": "execute_result"
    }
   ],
   "source": [
    "from sklearn.ensemble import RandomForestClassifier\n",
    "feat_labels = feature_vec\n",
    "forest = RandomForestClassifier(n_estimators=100, n_jobs=-1, criterion='entropy')\n",
    "forest.fit(X_train, y_train)"
   ]
  },
  {
   "cell_type": "code",
   "execution_count": 963,
   "metadata": {
    "collapsed": false
   },
   "outputs": [
    {
     "name": "stdout",
     "output_type": "stream",
     "text": [
      "  1) PS/G                           0.139586\n",
      "  2) AST                            0.126697\n",
      "  3) TRB                            0.119666\n",
      "  4) 3P                             0.116560\n",
      "  5) TOV                            0.106947\n",
      "  6) FG%                            0.103369\n",
      "  7) STL                            0.100576\n",
      "  8) FT%                            0.095561\n",
      "  9) BLK                            0.091038\n"
     ]
    }
   ],
   "source": [
    "importances = forest.feature_importances_\n",
    "indices = np.argsort(importances)[::-1]\n",
    "for f in range(X_train.shape[1]):\n",
    "    print(\"%3d) %-*s %f\" % (f+1, 30, feat_labels[indices[f]], importances[indices[f]]))"
   ]
  },
  {
   "cell_type": "code",
   "execution_count": 810,
   "metadata": {
    "collapsed": true
   },
   "outputs": [],
   "source": [
    "from sklearn.metrics import accuracy_score"
   ]
  },
  {
   "cell_type": "code",
   "execution_count": 964,
   "metadata": {
    "collapsed": false
   },
   "outputs": [
    {
     "name": "stdout",
     "output_type": "stream",
     "text": [
      "Train/test accuracies: 1.000/0.689\n"
     ]
    }
   ],
   "source": [
    "y_train_pred = forest.predict(X_train)\n",
    "y_test_pred = forest.predict(X_test)\n",
    "forest_train = accuracy_score(y_train, y_train_pred)\n",
    "forest_test = accuracy_score(y_test, y_test_pred)\n",
    "print('Train/test accuracies: %.3f/%.3f' % (forest_train, forest_test))"
   ]
  },
  {
   "cell_type": "markdown",
   "metadata": {},
   "source": [
    "### 0.649 is not so hot. "
   ]
  },
  {
   "cell_type": "markdown",
   "metadata": {},
   "source": [
    "## Now look at Bagging"
   ]
  },
  {
   "cell_type": "code",
   "execution_count": 965,
   "metadata": {
    "collapsed": true
   },
   "outputs": [],
   "source": [
    "from sklearn.ensemble import BaggingClassifier\n",
    "from sklearn.preprocessing import LabelEncoder\n",
    "from sklearn.tree import DecisionTreeClassifier\n",
    "\n",
    "tree = DecisionTreeClassifier(criterion='entropy', max_depth=None)\n",
    "bag = BaggingClassifier(base_estimator=tree,\n",
    "                        max_samples=1.0, max_features=1.0,\n",
    "                        bootstrap=True, bootstrap_features=False,\n",
    "                        n_jobs=-1)"
   ]
  },
  {
   "cell_type": "code",
   "execution_count": 966,
   "metadata": {
    "collapsed": false
   },
   "outputs": [
    {
     "name": "stdout",
     "output_type": "stream",
     "text": [
      "Bagging train/test accuracies: 0.976/0.730\n"
     ]
    }
   ],
   "source": [
    "bag = bag.fit(X_train, y_train)\n",
    "y_train_pred = bag.predict(X_train)\n",
    "y_test_pred = bag.predict(X_test)\n",
    "bag_train = accuracy_score(y_train, y_train_pred)\n",
    "bag_test = accuracy_score(y_test, y_test_pred)\n",
    "print('Bagging train/test accuracies: %.3f/%.3f' % (bag_train, bag_test))"
   ]
  },
  {
   "cell_type": "markdown",
   "metadata": {},
   "source": [
    "## SVC and tune hyperparameters"
   ]
  },
  {
   "cell_type": "code",
   "execution_count": 219,
   "metadata": {
    "collapsed": true
   },
   "outputs": [],
   "source": [
    "from sklearn.pipeline import Pipeline\n",
    "from sklearn.preprocessing import StandardScaler\n",
    "from sklearn.grid_search import GridSearchCV\n",
    "from sklearn.svm import SVC"
   ]
  },
  {
   "cell_type": "code",
   "execution_count": 975,
   "metadata": {
    "collapsed": false
   },
   "outputs": [
    {
     "name": "stdout",
     "output_type": "stream",
     "text": [
      "{'clf__gamma': 0.001, 'clf__kernel': 'rbf', 'clf__C': 10.0}\n",
      "Best score: 0.693\n"
     ]
    }
   ],
   "source": [
    "# pipe_svc = Pipeline([('sc1', StandardScaler()),\n",
    "#                    ('clf', SVC(random_state=0))])\n",
    "pipe_svc = Pipeline([('sc1', StandardScaler()),\n",
    "                     ('pca', PCA()),\n",
    "                     ('clf', SVC())])\n",
    "\n",
    "param_range = [10**-4, 10**-3, 10**-2, 10**-1, 1.0, 10.0, 10**2, 10**3]\n",
    "param_grid = [{'clf__C': param_range,\n",
    "               'clf__kernel': ['linear']},\n",
    "              {'clf__C': param_range,\n",
    "               'clf__gamma': param_range,\n",
    "               'clf__kernel': ['rbf']}]\n",
    "gs = GridSearchCV(estimator=pipe_svc,\n",
    "                 param_grid=param_grid,\n",
    "                 scoring='accuracy',\n",
    "                 cv=5,\n",
    "                 n_jobs=-1)\n",
    "gs = gs.fit(X_train, y_train)\n",
    "print(gs.best_params_)\n",
    "print('Best score: %.3f' % gs.best_score_)\n"
   ]
  },
  {
   "cell_type": "markdown",
   "metadata": {},
   "source": [
    "## Logistic Regression"
   ]
  },
  {
   "cell_type": "code",
   "execution_count": 978,
   "metadata": {
    "collapsed": false
   },
   "outputs": [
    {
     "name": "stdout",
     "output_type": "stream",
     "text": [
      "Test accuracy: 0.676\n",
      "CV accuracy 0.667 +/- 0.110\n"
     ]
    }
   ],
   "source": [
    "from sklearn.decomposition import PCA\n",
    "from sklearn.linear_model import LogisticRegression\n",
    "from sklearn.pipeline import Pipeline\n",
    "from sklearn.cross_validation import cross_val_score\n",
    "\n",
    "labels = []\n",
    "for i in range(0, X.shape[0], 2):\n",
    "    if len(np.where((X[i, :] - X[i+1,:]) > 0)[0]) > 4:\n",
    "        labels.append('win')\n",
    "        labels.append('loss')\n",
    "    else:\n",
    "        labels.append('loss')\n",
    "        labels.append('win')\n",
    "\n",
    "le = LabelEncoder()\n",
    "y = le.fit_transform(np.array(labels))\n",
    "# X_train, X_test, y_train, y_test = train_test_split(ssX, y,\n",
    "#                                                    test_size=0.2)\n",
    "\n",
    "pipe_lr = Pipeline([('pca', PCA()),\n",
    "                   ('clf', LogisticRegression())])\n",
    "pipe_lr.fit(X_train, y_train)\n",
    "print('Test accuracy: %.3f' % pipe_lr.score(X_test, y_test))\n",
    "scores = cross_val_score(estimator=pipe_lr, X=X_train, y=y_train, cv=10, n_jobs=1)\n",
    "print('CV accuracy %.3f +/- %.3f' % (np.mean(scores), np.std(scores)))"
   ]
  },
  {
   "cell_type": "markdown",
   "metadata": {
    "collapsed": false
   },
   "source": [
    "## look at the learning curve"
   ]
  },
  {
   "cell_type": "code",
   "execution_count": 979,
   "metadata": {
    "collapsed": false
   },
   "outputs": [
    {
     "data": {
      "text/plain": [
       "(0.5, 1.0)"
      ]
     },
     "execution_count": 979,
     "metadata": {},
     "output_type": "execute_result"
    },
    {
     "data": {
      "image/png": "[encoded data removed]",
      "text/plain": [
       "<matplotlib.figure.Figure at 0x144f52dd8>"
      ]
     },
     "metadata": {},
     "output_type": "display_data"
    }
   ],
   "source": [
    "import matplotlib.pyplot as plt\n",
    "%matplotlib inline\n",
    "from sklearn.learning_curve import learning_curve\n",
    "\n",
    "train_sizes, train_scores, test_scores = learning_curve(estimator=pipe_lr,\n",
    "                                                       X=X_train,\n",
    "                                                       y=y_train,\n",
    "                                                       train_sizes=np.linspace(0.1, 1.0, 10),\n",
    "                                                       cv=10,\n",
    "                                                       n_jobs=1)\n",
    "\n",
    "train_mean = np.mean(train_scores, axis=1)\n",
    "train_std = np.std(train_scores, axis=1)\n",
    "test_mean = np.mean(test_scores, axis=1)\n",
    "test_std = np.std(test_scores, axis=1)\n",
    "\n",
    "plt.figure(figsize=(8, 5))\n",
    "plt.plot(train_sizes, train_mean, color='blue', marker='o', markersize=5, label='training accuracy')\n",
    "plt.fill_between(train_sizes, train_mean + train_std, train_mean - train_std,\n",
    "                alpha=0.15, color='blue')\n",
    "plt.plot(train_sizes, test_mean, color='green', linestyle='--', marker='s', markersize=5,\n",
    "         label='validation accuracy')\n",
    "plt.fill_between(train_sizes, test_mean + test_std, test_mean - test_std, alpha=0.15, color='green')\n",
    "plt.grid()\n",
    "plt.title('pipe logistic regression model')\n",
    "plt.xlabel('Number of training samples')\n",
    "plt.ylabel('Accuracy')\n",
    "plt.legend(loc='lower right')\n",
    "plt.ylim([0.5, 1.0])"
   ]
  },
  {
   "cell_type": "code",
   "execution_count": 980,
   "metadata": {
    "collapsed": false
   },
   "outputs": [
    {
     "data": {
      "text/plain": [
       "array([1])"
      ]
     },
     "execution_count": 980,
     "metadata": {},
     "output_type": "execute_result"
    }
   ],
   "source": [
    "pipe_lr.predict(ss_ptable[pl_ind, :].mean(0)[np.newaxis, :])"
   ]
  },
  {
   "cell_type": "markdown",
   "metadata": {},
   "source": [
    "## SVC"
   ]
  },
  {
   "cell_type": "markdown",
   "metadata": {},
   "source": [
    "Use parameters here found via the above grid search"
   ]
  },
  {
   "cell_type": "code",
   "execution_count": 982,
   "metadata": {
    "collapsed": false
   },
   "outputs": [
    {
     "name": "stdout",
     "output_type": "stream",
     "text": [
      "['FG%', 'FT%', '3P', 'TRB', 'AST', 'STL', 'BLK', 'TOV', 'PS/G']\n",
      "[ 0.252  0.339  0.882  0.791  1.086  1.273  0.878 -0.59   1.352]\n",
      "SVC Prediction: 1\n",
      "CV for svc accuracy 0.670 +/- 0.125\n",
      "Test accuracy: 0.635\n",
      "CV accuracy 0.691 +/- 0.111\n"
     ]
    }
   ],
   "source": [
    "ss = StandardScaler()\n",
    "#X = np.array(bt.iloc[:,3:])\n",
    "#ssX = ss.fit_transform(X)\n",
    "labels = []\n",
    "for i in range(0, X.shape[0], 2):\n",
    "    if len(np.where((X[i, :] - X[i+1,:]) > 0)[0]) > 5:\n",
    "        labels.append('win')\n",
    "        labels.append('loss')\n",
    "    else:\n",
    "        labels.append('loss')\n",
    "        labels.append('win')\n",
    "\n",
    "le = LabelEncoder()\n",
    "#y = le.fit_transform(np.array(labels))\n",
    "#X_train, X_test, y_train, y_test = train_test_split(ssX, y,\n",
    "#                                                    test_size=0.1)\n",
    "\n",
    "ss_ptable = ss.fit_transform(ptable.loc[:, feature_vec])\n",
    "\n",
    "# svc = SVC(C=1000, gamma=0.0001, kernel='rbf', probability=True)\n",
    "# svc = SVC(C=0.01, kernel='linear', probability=True)\n",
    "svc = SVC(C=10, gamma=0.001, kernel='rbf', probability=True)\n",
    "svc.fit(X_train, y_train)\n",
    "print(feature_vec)\n",
    "print(np.round(ss_ptable[pl_ind, :].mean(0)[np.newaxis, :].ravel(), 3))\n",
    "print('SVC Prediction: %d' % svc.predict(ss_ptable[pl_ind, :].mean(0)[np.newaxis, :]))\n",
    "scores = cross_val_score(estimator=svc, X=X_train, y=y_train, cv=10, n_jobs=-1)\n",
    "print('CV for svc accuracy %.3f +/- %.3f' % (np.mean(scores), np.std(scores)))\n",
    "\n",
    "# pipeline SVC\n",
    "pipe_svc = Pipeline([('sc1', StandardScaler()),\n",
    "                   ('pca', PCA()),\n",
    "                   ('svc', SVC(C=1000, gamma=0.0001, kernel='rbf', probability=True))])\n",
    "pipe_svc.fit(X_train, y_train)\n",
    "print('Test accuracy: %.3f' % pipe_svc.score(X_test, y_test))\n",
    "scores = cross_val_score(estimator=pipe_svc, X=X_train, y=y_train, cv=10, n_jobs=1)\n",
    "print('CV accuracy %.3f +/- %.3f' % (np.mean(scores), np.std(scores)))"
   ]
  },
  {
   "cell_type": "code",
   "execution_count": 773,
   "metadata": {
    "collapsed": false
   },
   "outputs": [
    {
     "data": {
      "text/plain": [
       "Pipeline(steps=[('sc1', StandardScaler(copy=True, with_mean=True, with_std=True)), ('pca', PCA(copy=True, n_components=None, whiten=False)), ('svc', SVC(C=1000, cache_size=200, class_weight=None, coef0=0.0,\n",
       "  decision_function_shape=None, degree=3, gamma=0.0001, kernel='rbf',\n",
       "  max_iter=-1, probability=True, random_state=None, shrinking=True,\n",
       "  tol=0.001, verbose=False))])"
      ]
     },
     "execution_count": 773,
     "metadata": {},
     "output_type": "execute_result"
    }
   ],
   "source": [
    "pipe_svc"
   ]
  },
  {
   "cell_type": "code",
   "execution_count": 362,
   "metadata": {
    "collapsed": true
   },
   "outputs": [],
   "source": [
    "from sklearn.metrics import mean_squared_error\n",
    "from sklearn.metrics import r2_score"
   ]
  },
  {
   "cell_type": "code",
   "execution_count": 1017,
   "metadata": {
    "collapsed": false
   },
   "outputs": [
    {
     "name": "stdout",
     "output_type": "stream",
     "text": [
      "SVC Prediction: 1\n",
      "SVC probability Loss: 0.205 Win: 0.795\n"
     ]
    }
   ],
   "source": [
    "mysquad = ['Chris Paul', 'J.J. Redick', 'Otto Porter', 'Rudy Gobert',\n",
    "           'Kemba Walker', 'Kevin Durant', 'Myles Turner', 'Monta Ellis',\n",
    "           'Emmanuel Mudiay', 'Markieff Morris', 'Kyle Korver', 'Giannis Antetokounmpo']\n",
    "# mysquad = ['Luol Deng', 'Timofey Mozgov', 'Rodney Hood', 'Dwight Howard']\n",
    "\n",
    "pl_ind = []\n",
    "for pp in mysquad:\n",
    "    pl_ind.append(np.where(ptable.index==pp)[0][0])\n",
    "\n",
    "print('SVC Prediction: %d' % svc.predict(ss_ptable[pl_ind, :].mean(0)[np.newaxis, :]))\n",
    "prob_loss, prob_win = svc.predict_proba(ss_ptable[pl_ind, :].mean(0)[np.newaxis, :]).ravel()\n",
    "print('SVC probability Loss: %.3f Win: %.3f' % (prob_loss, prob_win))\n",
    "# scores = cross_val_score(estimator=svc, X=X_train, y=y_train, cv=10, n_jobs=-1)\n",
    "# print('CV for svc accuracy %.3f +/- %.3f' % (np.mean(scores), np.std(scores)))\n",
    "\n",
    "#print('Forest prediction: %d ' % forest.predict(ss_ptable[pl_ind, :].mean(0)[np.newaxis, :]))\n",
    "#scores = cross_val_score(estimator=forest, X=X_train, y=y_train, cv=10, n_jobs=-1)\n",
    "#print('Cross val for Forest accuracy %.3f +/- %.3f' % (np.mean(scores), np.std(scores)))\n"
   ]
  },
  {
   "cell_type": "code",
   "execution_count": 722,
   "metadata": {
    "collapsed": false
   },
   "outputs": [
    {
     "data": {
      "text/plain": [
       "array([86])"
      ]
     },
     "execution_count": 722,
     "metadata": {},
     "output_type": "execute_result"
    }
   ],
   "source": [
    "np.where(ptable.index=='Michael Carter-Williams')[0]"
   ]
  },
  {
   "cell_type": "code",
   "execution_count": 921,
   "metadata": {
    "collapsed": false
   },
   "outputs": [
    {
     "name": "stdout",
     "output_type": "stream",
     "text": [
      "['FG%', 'FT%', '3P', 'TRB', 'AST', 'STL', 'BLK', 'TOV', 'PS/G']\n",
      "[ 0.026 -0.035  0.154  0.073  0.197  0.095  0.159 -0.038  0.109]\n"
     ]
    }
   ],
   "source": [
    "print(feature_vec)\n",
    "print(np.round(svc.support_vectors_[101:].mean(0) - svc.support_vectors_[:101].mean(0), 3))"
   ]
  },
  {
   "cell_type": "code",
   "execution_count": 986,
   "metadata": {
    "collapsed": false
   },
   "outputs": [
    {
     "data": {
      "image/png": "[encoded data removed]",
      "text/plain": [
       "<matplotlib.figure.Figure at 0x188f55ef0>"
      ]
     },
     "metadata": {},
     "output_type": "display_data"
    }
   ],
   "source": [
    "from sklearn.learning_curve import learning_curve\n",
    "\n",
    "train_sizes, train_scores, test_scores = learning_curve(estimator=svc,\n",
    "                                                       X=X_train,\n",
    "                                                       y=y_train,\n",
    "                                                       train_sizes=np.linspace(0.1, 1.0, 10),\n",
    "                                                       cv=10,\n",
    "                                                       n_jobs=1)\n",
    "\n",
    "train_mean = np.mean(train_scores, axis=1)\n",
    "train_std = np.std(train_scores, axis=1)\n",
    "test_mean = np.mean(test_scores, axis=1)\n",
    "test_std = np.std(test_scores, axis=1)\n",
    "\n",
    "plt.figure(figsize=(8, 5))\n",
    "plt.plot(train_sizes, train_mean, color='blue', marker='o', markersize=5, label='training accuracy')\n",
    "plt.fill_between(train_sizes, train_mean + train_std, train_mean - train_std,\n",
    "                alpha=0.15, color='blue')\n",
    "plt.plot(train_sizes, test_mean, color='green', linestyle='--', marker='s', markersize=5,\n",
    "         label='validation accuracy')\n",
    "plt.fill_between(train_sizes, test_mean + test_std, test_mean - test_std, alpha=0.15, color='green')\n",
    "plt.grid()\n",
    "plt.xlabel('Number of training samples')\n",
    "plt.ylabel('Accuracy')\n",
    "plt.title('SVC model')\n",
    "plt.legend(loc='lower right')\n",
    "plt.ylim([0.5, 0.95])\n",
    "plt.tight_layout()\n",
    "plt.show()"
   ]
  },
  {
   "cell_type": "code",
   "execution_count": 759,
   "metadata": {
    "collapsed": false
   },
   "outputs": [
    {
     "name": "stdout",
     "output_type": "stream",
     "text": [
      "pipe logistic regr probability Loss: 0.122 Win: 0.878\n"
     ]
    }
   ],
   "source": [
    "lr_pred_loss, lr_pred_win = pipe_lr.predict_proba(ss_ptable[pl_ind, :].mean(0)[np.newaxis, :]).ravel()\n",
    "print('pipe logistic regr probability Loss: %.3f Win: %.3f' % (lr_pred_loss, lr_pred_win))"
   ]
  },
  {
   "cell_type": "markdown",
   "metadata": {},
   "source": [
    "## AdaBoost"
   ]
  },
  {
   "cell_type": "code",
   "execution_count": 763,
   "metadata": {
    "collapsed": true
   },
   "outputs": [],
   "source": [
    "from sklearn.ensemble import AdaBoostClassifier\n",
    "from sklearn.tree import DecisionTreeClassifier"
   ]
  },
  {
   "cell_type": "code",
   "execution_count": 987,
   "metadata": {
    "collapsed": false
   },
   "outputs": [],
   "source": [
    "ada = AdaBoostClassifier(n_estimators=100,\n",
    "                         learning_rate=0.2)"
   ]
  },
  {
   "cell_type": "code",
   "execution_count": 988,
   "metadata": {
    "collapsed": false
   },
   "outputs": [
    {
     "name": "stdout",
     "output_type": "stream",
     "text": [
      "10-fold cross validation: \n",
      "\n",
      "ROC AUC: 0.73 (+/- 0.13) [Logistic Regr Pipe]\n",
      "ROC AUC: 0.73 (+/- 0.13) [SVC]\n",
      "ROC AUC: 0.61 (+/- 0.14) [AdaBoost]\n"
     ]
    }
   ],
   "source": [
    "clf_labels = ['Logistic Regr Pipe', 'SVC', 'AdaBoost']\n",
    "print('10-fold cross validation: \\n')\n",
    "for clf, label in zip([pipe_lr, svc, ada], clf_labels):\n",
    "    scores = cross_val_score(estimator=clf, X=X_train, y=y_train,\n",
    "                             cv=10, scoring='roc_auc')\n",
    "    print('ROC AUC: %0.2f (+/- %0.2f) [%s]' % (scores.mean(), scores.std(), label))"
   ]
  },
  {
   "cell_type": "code",
   "execution_count": 989,
   "metadata": {
    "collapsed": false
   },
   "outputs": [
    {
     "name": "stdout",
     "output_type": "stream",
     "text": [
      "Test accuracy: 0.676\n",
      "CV accuracy 0.579 +/- 0.103\n"
     ]
    }
   ],
   "source": [
    "pipe_lr = Pipeline([('sc1', StandardScaler()),\n",
    "                    ('pca', PCA()),\n",
    "                   ('ada', AdaBoostClassifier(n_estimators=100, learning_rate=0.2))])\n",
    "pipe_lr.fit(X_train, y_train)\n",
    "print('Test accuracy: %.3f' % pipe_lr.score(X_test, y_test))\n",
    "scores = cross_val_score(estimator=pipe_lr, X=X_train, y=y_train, cv=10, n_jobs=1)\n",
    "print('CV accuracy %.3f +/- %.3f' % (np.mean(scores), np.std(scores)))"
   ]
  },
  {
   "cell_type": "code",
   "execution_count": null,
   "metadata": {
    "collapsed": true
   },
   "outputs": [],
   "source": [
    "mysquad = ['Chris Paul', 'J.J. Redick', 'Otto Porter', 'Rudy Gobert',\n",
    "           'Kemba Walker', 'Kevin Durant', 'Myles Turner', 'Monta Ellis',\n",
    "           'Emmanuel Mudiay', 'Markieff Morris', 'Kyle Korver', 'Giannis Antetokounmpo']\n",
    "# mysquad = ['Luol Deng', 'Timofey Mozgov', 'Rodney Hood', 'Dwight Howard']\n",
    "\n",
    "pl_ind = []\n",
    "for pp in mysquad:\n",
    "    pl_ind.append(np.where(ptable.index==pp)[0][0])\n",
    "\n",
    "print('SVC Prediction: %d' % svc.predict(ss_ptable[pl_ind, :].mean(0)[np.newaxis, :]))\n",
    "prob_loss, prob_win = svc.predict_proba(ss_ptable[pl_ind, :].mean(0)[np.newaxis, :]).ravel()\n",
    "print('SVC probability Loss: %.3f Win: %.3f' % (prob_loss, prob_win))\n",
    "# scores = cross_val_score(estimator=svc, X=X_train, y=y_train, cv=10, n_jobs=-1)\n",
    "# print('CV for svc accuracy %.3f +/- %.3f' % (np.mean(scores), np.std(scores)))\n",
    "\n",
    "#print('Forest prediction: %d ' % forest.predict(ss_ptable[pl_ind, :].mean(0)[np.newaxis, :]))\n",
    "#scores = cross_val_score(estimator=forest, X=X_train, y=y_train, cv=10, n_jobs=-1)\n",
    "#print('Cross val for Forest accuracy %.3f +/- %.3f' % (np.mean(scores), np.std(scores)))"
   ]
  },
  {
   "cell_type": "code",
   "execution_count": 1018,
   "metadata": {
    "collapsed": true
   },
   "outputs": [],
   "source": [
    "from espn_fantasy_scrape import return_rosters"
   ]
  },
  {
   "cell_type": "code",
   "execution_count": null,
   "metadata": {
    "collapsed": true
   },
   "outputs": [],
   "source": []
  }
 ],
 "metadata": {
  "kernelspec": {
   "display_name": "Python 3",
   "language": "python",
   "name": "python3"
  },
  "language_info": {
   "codemirror_mode": {
    "name": "ipython",
    "version": 3
   },
   "file_extension": ".py",
   "mimetype": "text/x-python",
   "name": "python",
   "nbconvert_exporter": "python",
   "pygments_lexer": "ipython3",
   "version": "3.5.1"
  }
 },
 "nbformat": 4,
 "nbformat_minor": 0
}
