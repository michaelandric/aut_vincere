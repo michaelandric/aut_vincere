{
 "cells": [
  {
   "cell_type": "code",
   "execution_count": 1,
   "metadata": {
    "collapsed": true
   },
   "outputs": [],
   "source": [
    "import numpy as np\n",
    "import pandas as pd\n",
    "import warnings\n",
    "import codecs\n",
    "import os\n",
    "\n",
    "import aut_vinc_bballCrawler as bc"
   ]
  },
  {
   "cell_type": "markdown",
   "metadata": {},
   "source": [
    "## Get 2017 data"
   ]
  },
  {
   "cell_type": "code",
   "execution_count": 2,
   "metadata": {
    "collapsed": false,
    "scrolled": false
   },
   "outputs": [
    {
     "name": "stderr",
     "output_type": "stream",
     "text": [
      "/Users/andric/anaconda/envs/py35/lib/python3.5/site-packages/ipykernel/__main__.py:13: SettingWithCopyWarning: \n",
      "A value is trying to be set on a copy of a slice from a DataFrame\n",
      "\n",
      "See the caveats in the documentation: http://pandas.pydata.org/pandas-docs/stable/indexing.html#indexing-view-versus-copy\n"
     ]
    },
    {
     "data": {
      "text/html": [
       "<div>\n",
       "<table border=\"1\" class=\"dataframe\">\n",
       "  <thead>\n",
       "    <tr style=\"text-align: right;\">\n",
       "      <th></th>\n",
       "      <th>wk</th>\n",
       "      <th>season</th>\n",
       "      <th>fg.</th>\n",
       "      <th>ft.</th>\n",
       "      <th>X3p</th>\n",
       "      <th>trb</th>\n",
       "      <th>ast</th>\n",
       "      <th>stl</th>\n",
       "      <th>blk</th>\n",
       "      <th>tov</th>\n",
       "      <th>pts</th>\n",
       "    </tr>\n",
       "  </thead>\n",
       "  <tbody>\n",
       "    <tr>\n",
       "      <th>count</th>\n",
       "      <td>430.000000</td>\n",
       "      <td>430.000000</td>\n",
       "      <td>430.000000</td>\n",
       "      <td>430.000000</td>\n",
       "      <td>430.000000</td>\n",
       "      <td>430.000000</td>\n",
       "      <td>430.000000</td>\n",
       "      <td>430.000000</td>\n",
       "      <td>430.000000</td>\n",
       "      <td>430.000000</td>\n",
       "      <td>430.000000</td>\n",
       "    </tr>\n",
       "    <tr>\n",
       "      <th>mean</th>\n",
       "      <td>8.883721</td>\n",
       "      <td>1.697674</td>\n",
       "      <td>0.456008</td>\n",
       "      <td>0.773432</td>\n",
       "      <td>45.000000</td>\n",
       "      <td>241.060465</td>\n",
       "      <td>134.090698</td>\n",
       "      <td>42.786047</td>\n",
       "      <td>27.516279</td>\n",
       "      <td>12.740421</td>\n",
       "      <td>616.323256</td>\n",
       "    </tr>\n",
       "    <tr>\n",
       "      <th>std</th>\n",
       "      <td>5.454663</td>\n",
       "      <td>0.700812</td>\n",
       "      <td>0.023588</td>\n",
       "      <td>0.047460</td>\n",
       "      <td>13.700084</td>\n",
       "      <td>38.487864</td>\n",
       "      <td>24.213766</td>\n",
       "      <td>9.158322</td>\n",
       "      <td>8.908416</td>\n",
       "      <td>2.391440</td>\n",
       "      <td>87.580746</td>\n",
       "    </tr>\n",
       "    <tr>\n",
       "      <th>min</th>\n",
       "      <td>1.000000</td>\n",
       "      <td>1.000000</td>\n",
       "      <td>0.381200</td>\n",
       "      <td>0.611900</td>\n",
       "      <td>14.000000</td>\n",
       "      <td>132.000000</td>\n",
       "      <td>73.000000</td>\n",
       "      <td>19.000000</td>\n",
       "      <td>7.000000</td>\n",
       "      <td>8.264463</td>\n",
       "      <td>363.000000</td>\n",
       "    </tr>\n",
       "    <tr>\n",
       "      <th>25%</th>\n",
       "      <td>4.000000</td>\n",
       "      <td>1.000000</td>\n",
       "      <td>0.439925</td>\n",
       "      <td>0.743300</td>\n",
       "      <td>34.000000</td>\n",
       "      <td>213.000000</td>\n",
       "      <td>117.000000</td>\n",
       "      <td>37.000000</td>\n",
       "      <td>21.000000</td>\n",
       "      <td>11.111111</td>\n",
       "      <td>561.250000</td>\n",
       "    </tr>\n",
       "    <tr>\n",
       "      <th>50%</th>\n",
       "      <td>8.000000</td>\n",
       "      <td>2.000000</td>\n",
       "      <td>0.455800</td>\n",
       "      <td>0.777800</td>\n",
       "      <td>44.000000</td>\n",
       "      <td>238.500000</td>\n",
       "      <td>133.000000</td>\n",
       "      <td>43.000000</td>\n",
       "      <td>27.000000</td>\n",
       "      <td>12.345679</td>\n",
       "      <td>615.000000</td>\n",
       "    </tr>\n",
       "    <tr>\n",
       "      <th>75%</th>\n",
       "      <td>14.000000</td>\n",
       "      <td>2.000000</td>\n",
       "      <td>0.474300</td>\n",
       "      <td>0.808475</td>\n",
       "      <td>54.000000</td>\n",
       "      <td>267.750000</td>\n",
       "      <td>150.000000</td>\n",
       "      <td>48.000000</td>\n",
       "      <td>33.000000</td>\n",
       "      <td>13.888889</td>\n",
       "      <td>668.750000</td>\n",
       "    </tr>\n",
       "    <tr>\n",
       "      <th>max</th>\n",
       "      <td>19.000000</td>\n",
       "      <td>3.000000</td>\n",
       "      <td>0.520700</td>\n",
       "      <td>0.882000</td>\n",
       "      <td>90.000000</td>\n",
       "      <td>355.000000</td>\n",
       "      <td>205.000000</td>\n",
       "      <td>78.000000</td>\n",
       "      <td>64.000000</td>\n",
       "      <td>23.809524</td>\n",
       "      <td>913.000000</td>\n",
       "    </tr>\n",
       "  </tbody>\n",
       "</table>\n",
       "</div>"
      ],
      "text/plain": [
       "               wk      season         fg.         ft.         X3p         trb  \\\n",
       "count  430.000000  430.000000  430.000000  430.000000  430.000000  430.000000   \n",
       "mean     8.883721    1.697674    0.456008    0.773432   45.000000  241.060465   \n",
       "std      5.454663    0.700812    0.023588    0.047460   13.700084   38.487864   \n",
       "min      1.000000    1.000000    0.381200    0.611900   14.000000  132.000000   \n",
       "25%      4.000000    1.000000    0.439925    0.743300   34.000000  213.000000   \n",
       "50%      8.000000    2.000000    0.455800    0.777800   44.000000  238.500000   \n",
       "75%     14.000000    2.000000    0.474300    0.808475   54.000000  267.750000   \n",
       "max     19.000000    3.000000    0.520700    0.882000   90.000000  355.000000   \n",
       "\n",
       "              ast         stl         blk         tov         pts  \n",
       "count  430.000000  430.000000  430.000000  430.000000  430.000000  \n",
       "mean   134.090698   42.786047   27.516279   12.740421  616.323256  \n",
       "std     24.213766    9.158322    8.908416    2.391440   87.580746  \n",
       "min     73.000000   19.000000    7.000000    8.264463  363.000000  \n",
       "25%    117.000000   37.000000   21.000000   11.111111  561.250000  \n",
       "50%    133.000000   43.000000   27.000000   12.345679  615.000000  \n",
       "75%    150.000000   48.000000   33.000000   13.888889  668.750000  \n",
       "max    205.000000   78.000000   64.000000   23.809524  913.000000  "
      ]
     },
     "execution_count": 2,
     "metadata": {},
     "output_type": "execute_result"
    }
   ],
   "source": [
    "pergame = bc.getSoupFromURL('http://www.basketball-reference.com/leagues/NBA_2017_per_game.html')\n",
    "pg = pergame.findAll('table')\n",
    "header = []\n",
    "for th in pg[0].findAll('th'):\n",
    "    if not th.getText() in header:\n",
    "        header.append(th.getText())\n",
    "rows = pg[0].findAll('tr')[1:]  # all rows but the header\n",
    "rows = [r for r in rows if len(r.findAll('td')) > 0]\n",
    "parsed_table = [[col.getText() for col in row.findAll('td')] for row in rows]\n",
    "ptable = pd.io.parsers.TextParser(parsed_table, names=header[1:30], index_col=0).get_chunk()\n",
    "# invert the turnover metric\n",
    "ptable.TOV = 1/ptable.TOV\n",
    "ptable.TOV[np.isinf(ptable.TOV)] = ptable.TOV[~np.isinf(ptable.TOV)].mean()\n",
    "ptable.replace(np.nan, 0, inplace=True)\n",
    "feature_vec = ['FG%','FT%','3P','TRB','AST','STL','BLK','TOV','PS/G']\n",
    "\n",
    "bt = pd.read_excel('autvinc_table.xlsx')\n",
    "bt.tov = (1/bt.tov)*(10**3)\n",
    "bt.describe()"
   ]
  },
  {
   "cell_type": "code",
   "execution_count": 3,
   "metadata": {
    "collapsed": true
   },
   "outputs": [],
   "source": [
    "from sklearn.cross_validation import train_test_split\n",
    "from sklearn.preprocessing import LabelEncoder\n",
    "from sklearn.preprocessing import StandardScaler"
   ]
  },
  {
   "cell_type": "code",
   "execution_count": 20,
   "metadata": {
    "collapsed": false
   },
   "outputs": [],
   "source": [
    "X = np.array(bt.iloc[:,3:])\n",
    "ss = StandardScaler()\n",
    "ssX = ss.fit_transform(X)\n",
    "labels = []\n",
    "for i in range(0, X.shape[0], 2):\n",
    "    if len(np.where((X[i, :] - X[i+1,:]) > 0)[0]) > 5:\n",
    "        labels.append('win')\n",
    "        labels.append('loss')\n",
    "    else:\n",
    "        labels.append('loss')\n",
    "        labels.append('win')\n",
    "\n",
    "le = LabelEncoder()\n",
    "y = le.fit_transform(np.array(labels))\n",
    "X_train, X_test, y_train, y_test = train_test_split(ssX, y,\n",
    "                                                    test_size=0.1)"
   ]
  },
  {
   "cell_type": "code",
   "execution_count": 21,
   "metadata": {
    "collapsed": false
   },
   "outputs": [
    {
     "name": "stdout",
     "output_type": "stream",
     "text": [
      "  1) PS/G                           0.154064\n",
      "  2) FG%                            0.122052\n",
      "  3) TRB                            0.117921\n",
      "  4) AST                            0.115945\n",
      "  5) FT%                            0.107894\n",
      "  6) BLK                            0.106282\n",
      "  7) 3P                             0.097999\n",
      "  8) STL                            0.088940\n",
      "  9) TOV                            0.088904\n"
     ]
    }
   ],
   "source": [
    "from sklearn.ensemble import RandomForestClassifier\n",
    "feat_labels = feature_vec\n",
    "forest = RandomForestClassifier(n_estimators=50, n_jobs=-1, criterion='entropy')\n",
    "forest.fit(X_train, y_train)\n",
    "\n",
    "importances = forest.feature_importances_\n",
    "indices = np.argsort(importances)[::-1]\n",
    "for f in range(X_train.shape[1]):\n",
    "    print(\"%3d) %-*s %f\" % (f+1, 30, feat_labels[indices[f]], importances[indices[f]]))"
   ]
  },
  {
   "cell_type": "code",
   "execution_count": 6,
   "metadata": {
    "collapsed": false
   },
   "outputs": [],
   "source": [
    "from sklearn.metrics import accuracy_score"
   ]
  },
  {
   "cell_type": "code",
   "execution_count": 22,
   "metadata": {
    "collapsed": false
   },
   "outputs": [
    {
     "name": "stdout",
     "output_type": "stream",
     "text": [
      "Train/test accuracies: 1.000/0.767\n"
     ]
    }
   ],
   "source": [
    "y_train_pred = forest.predict(X_train)\n",
    "y_test_pred = forest.predict(X_test)\n",
    "forest_train = accuracy_score(y_train, y_train_pred)\n",
    "forest_test = accuracy_score(y_test, y_test_pred)\n",
    "print('Train/test accuracies: %.3f/%.3f' % (forest_train, forest_test))"
   ]
  },
  {
   "cell_type": "markdown",
   "metadata": {},
   "source": [
    "## SVC and tuning"
   ]
  },
  {
   "cell_type": "code",
   "execution_count": 17,
   "metadata": {
    "collapsed": true
   },
   "outputs": [],
   "source": [
    "from sklearn.decomposition import PCA\n",
    "from sklearn.pipeline import Pipeline\n",
    "from sklearn.preprocessing import StandardScaler\n",
    "from sklearn.grid_search import GridSearchCV\n",
    "from sklearn.svm import SVC\n",
    "from sklearn.cross_validation import cross_val_score"
   ]
  },
  {
   "cell_type": "code",
   "execution_count": 32,
   "metadata": {
    "collapsed": false
   },
   "outputs": [
    {
     "name": "stdout",
     "output_type": "stream",
     "text": [
      "{'clf__kernel': 'linear', 'clf__C': 0.01}\n",
      "Pipeline(steps=[('pca', PCA(copy=True, n_components=None, whiten=False)), ('clf', SVC(C=0.01, cache_size=200, class_weight=None, coef0=0.0,\n",
      "  decision_function_shape=None, degree=3, gamma='auto', kernel='linear',\n",
      "  max_iter=-1, probability=True, random_state=None, shrinking=True,\n",
      "  tol=0.001, verbose=False))])\n",
      "Best score: 0.651\n",
      "CV accuracy 0.843 +/- 0.178\n"
     ]
    }
   ],
   "source": [
    "pipe_svc = Pipeline([('pca', PCA()),\n",
    "                     ('clf', SVC(probability=True))])\n",
    "\n",
    "param_range = [10**-4, 10**-3, 10**-2, 10**-1, 1.0, 10.0, 10**2]\n",
    "param_grid = [{'clf__C': param_range,\n",
    "               'clf__kernel': ['linear']},\n",
    "              {'clf__C': param_range,\n",
    "               'clf__gamma': param_range,\n",
    "               'clf__kernel': ['rbf']}]\n",
    "gs = GridSearchCV(estimator=pipe_svc,\n",
    "                 param_grid=param_grid,\n",
    "                 scoring='accuracy',\n",
    "                 cv=5,\n",
    "                 n_jobs=-1)\n",
    "gsfit = gs.fit(X_train, y_train)\n",
    "print(gsfit.best_params_)\n",
    "print(gsfit.best_estimator_)\n",
    "print('Best score: %.3f' % gsfit.best_score_)\n",
    "scores = cross_val_score(gsfit.best_estimator_, X=X_test, y=y_test, cv=10, n_jobs=-1)\n",
    "print('CV accuracy %.3f +/- %.3f' % (np.mean(scores), np.std(scores)))"
   ]
  },
  {
   "cell_type": "markdown",
   "metadata": {},
   "source": [
    "## Get league rosters"
   ]
  },
  {
   "cell_type": "code",
   "execution_count": 24,
   "metadata": {
    "collapsed": false,
    "scrolled": true
   },
   "outputs": [
    {
     "name": "stdout",
     "output_type": "stream",
     "text": [
      "username: ········\n",
      "password: ········\n"
     ]
    },
    {
     "data": {
      "text/html": [
       "<div>\n",
       "<table border=\"1\" class=\"dataframe\">\n",
       "  <thead>\n",
       "    <tr style=\"text-align: right;\">\n",
       "      <th></th>\n",
       "      <th>Player</th>\n",
       "      <th>FG%</th>\n",
       "      <th>FT%</th>\n",
       "      <th>3P</th>\n",
       "      <th>TRB</th>\n",
       "      <th>AST</th>\n",
       "      <th>STL</th>\n",
       "      <th>BLK</th>\n",
       "      <th>TOV</th>\n",
       "      <th>PS/G</th>\n",
       "    </tr>\n",
       "  </thead>\n",
       "  <tbody>\n",
       "    <tr>\n",
       "      <th>0</th>\n",
       "      <td>Kemba Walker</td>\n",
       "      <td>0.466</td>\n",
       "      <td>0.784</td>\n",
       "      <td>2.6</td>\n",
       "      <td>3.6</td>\n",
       "      <td>5.0</td>\n",
       "      <td>1.5</td>\n",
       "      <td>0.3</td>\n",
       "      <td>0.454545</td>\n",
       "      <td>22.8</td>\n",
       "    </tr>\n",
       "    <tr>\n",
       "      <th>1</th>\n",
       "      <td>Josh Richardson</td>\n",
       "      <td>0.404</td>\n",
       "      <td>0.667</td>\n",
       "      <td>1.8</td>\n",
       "      <td>3.1</td>\n",
       "      <td>2.0</td>\n",
       "      <td>0.9</td>\n",
       "      <td>0.5</td>\n",
       "      <td>0.769231</td>\n",
       "      <td>10.9</td>\n",
       "    </tr>\n",
       "    <tr>\n",
       "      <th>2</th>\n",
       "      <td>Myles Turner</td>\n",
       "      <td>0.534</td>\n",
       "      <td>0.802</td>\n",
       "      <td>0.6</td>\n",
       "      <td>7.2</td>\n",
       "      <td>1.0</td>\n",
       "      <td>0.9</td>\n",
       "      <td>2.3</td>\n",
       "      <td>0.666667</td>\n",
       "      <td>15.0</td>\n",
       "    </tr>\n",
       "    <tr>\n",
       "      <th>3</th>\n",
       "      <td>Joel Embiid</td>\n",
       "      <td>0.458</td>\n",
       "      <td>0.778</td>\n",
       "      <td>1.3</td>\n",
       "      <td>7.6</td>\n",
       "      <td>1.7</td>\n",
       "      <td>0.6</td>\n",
       "      <td>2.5</td>\n",
       "      <td>0.270270</td>\n",
       "      <td>18.2</td>\n",
       "    </tr>\n",
       "    <tr>\n",
       "      <th>4</th>\n",
       "      <td>Chris Paul</td>\n",
       "      <td>0.462</td>\n",
       "      <td>0.895</td>\n",
       "      <td>2.2</td>\n",
       "      <td>5.2</td>\n",
       "      <td>9.6</td>\n",
       "      <td>2.5</td>\n",
       "      <td>0.2</td>\n",
       "      <td>0.454545</td>\n",
       "      <td>17.9</td>\n",
       "    </tr>\n",
       "    <tr>\n",
       "      <th>5</th>\n",
       "      <td>Rudy Gobert</td>\n",
       "      <td>0.671</td>\n",
       "      <td>0.676</td>\n",
       "      <td>0.0</td>\n",
       "      <td>11.6</td>\n",
       "      <td>0.9</td>\n",
       "      <td>0.5</td>\n",
       "      <td>2.8</td>\n",
       "      <td>0.625000</td>\n",
       "      <td>11.8</td>\n",
       "    </tr>\n",
       "    <tr>\n",
       "      <th>6</th>\n",
       "      <td>Patrick Beverley</td>\n",
       "      <td>0.420</td>\n",
       "      <td>0.600</td>\n",
       "      <td>1.5</td>\n",
       "      <td>5.4</td>\n",
       "      <td>4.5</td>\n",
       "      <td>1.4</td>\n",
       "      <td>0.6</td>\n",
       "      <td>0.714286</td>\n",
       "      <td>7.9</td>\n",
       "    </tr>\n",
       "    <tr>\n",
       "      <th>7</th>\n",
       "      <td>Giannis Antetokounmpo</td>\n",
       "      <td>0.524</td>\n",
       "      <td>0.766</td>\n",
       "      <td>0.6</td>\n",
       "      <td>8.9</td>\n",
       "      <td>5.9</td>\n",
       "      <td>2.0</td>\n",
       "      <td>2.0</td>\n",
       "      <td>0.285714</td>\n",
       "      <td>22.3</td>\n",
       "    </tr>\n",
       "    <tr>\n",
       "      <th>8</th>\n",
       "      <td>Kevin Durant</td>\n",
       "      <td>0.535</td>\n",
       "      <td>0.865</td>\n",
       "      <td>1.9</td>\n",
       "      <td>8.2</td>\n",
       "      <td>4.6</td>\n",
       "      <td>1.3</td>\n",
       "      <td>1.7</td>\n",
       "      <td>0.454545</td>\n",
       "      <td>25.9</td>\n",
       "    </tr>\n",
       "    <tr>\n",
       "      <th>9</th>\n",
       "      <td>Langston Galloway</td>\n",
       "      <td>0.397</td>\n",
       "      <td>0.750</td>\n",
       "      <td>2.0</td>\n",
       "      <td>2.4</td>\n",
       "      <td>1.5</td>\n",
       "      <td>1.1</td>\n",
       "      <td>0.0</td>\n",
       "      <td>1.250000</td>\n",
       "      <td>10.0</td>\n",
       "    </tr>\n",
       "    <tr>\n",
       "      <th>10</th>\n",
       "      <td>Monta Ellis</td>\n",
       "      <td>0.433</td>\n",
       "      <td>0.840</td>\n",
       "      <td>0.6</td>\n",
       "      <td>3.3</td>\n",
       "      <td>3.7</td>\n",
       "      <td>1.1</td>\n",
       "      <td>0.5</td>\n",
       "      <td>0.434783</td>\n",
       "      <td>9.7</td>\n",
       "    </tr>\n",
       "    <tr>\n",
       "      <th>11</th>\n",
       "      <td>Otto Porter</td>\n",
       "      <td>0.535</td>\n",
       "      <td>0.767</td>\n",
       "      <td>1.5</td>\n",
       "      <td>7.3</td>\n",
       "      <td>1.4</td>\n",
       "      <td>1.9</td>\n",
       "      <td>0.5</td>\n",
       "      <td>1.111111</td>\n",
       "      <td>13.7</td>\n",
       "    </tr>\n",
       "    <tr>\n",
       "      <th>12</th>\n",
       "      <td>Patrick Mills</td>\n",
       "      <td>0.490</td>\n",
       "      <td>0.941</td>\n",
       "      <td>2.1</td>\n",
       "      <td>2.0</td>\n",
       "      <td>3.6</td>\n",
       "      <td>0.8</td>\n",
       "      <td>0.0</td>\n",
       "      <td>0.769231</td>\n",
       "      <td>11.6</td>\n",
       "    </tr>\n",
       "    <tr>\n",
       "      <th>13</th>\n",
       "      <td>Ersan Ilyasova</td>\n",
       "      <td>0.452</td>\n",
       "      <td>0.804</td>\n",
       "      <td>1.8</td>\n",
       "      <td>6.3</td>\n",
       "      <td>1.5</td>\n",
       "      <td>0.5</td>\n",
       "      <td>0.2</td>\n",
       "      <td>0.769231</td>\n",
       "      <td>13.0</td>\n",
       "    </tr>\n",
       "  </tbody>\n",
       "</table>\n",
       "</div>"
      ],
      "text/plain": [
       "                   Player    FG%    FT%   3P   TRB  AST  STL  BLK       TOV  \\\n",
       "0            Kemba Walker  0.466  0.784  2.6   3.6  5.0  1.5  0.3  0.454545   \n",
       "1         Josh Richardson  0.404  0.667  1.8   3.1  2.0  0.9  0.5  0.769231   \n",
       "2            Myles Turner  0.534  0.802  0.6   7.2  1.0  0.9  2.3  0.666667   \n",
       "3             Joel Embiid  0.458  0.778  1.3   7.6  1.7  0.6  2.5  0.270270   \n",
       "4              Chris Paul  0.462  0.895  2.2   5.2  9.6  2.5  0.2  0.454545   \n",
       "5             Rudy Gobert  0.671  0.676  0.0  11.6  0.9  0.5  2.8  0.625000   \n",
       "6        Patrick Beverley  0.420  0.600  1.5   5.4  4.5  1.4  0.6  0.714286   \n",
       "7   Giannis Antetokounmpo  0.524  0.766  0.6   8.9  5.9  2.0  2.0  0.285714   \n",
       "8            Kevin Durant  0.535  0.865  1.9   8.2  4.6  1.3  1.7  0.454545   \n",
       "9       Langston Galloway  0.397  0.750  2.0   2.4  1.5  1.1  0.0  1.250000   \n",
       "10            Monta Ellis  0.433  0.840  0.6   3.3  3.7  1.1  0.5  0.434783   \n",
       "11            Otto Porter  0.535  0.767  1.5   7.3  1.4  1.9  0.5  1.111111   \n",
       "12          Patrick Mills  0.490  0.941  2.1   2.0  3.6  0.8  0.0  0.769231   \n",
       "13         Ersan Ilyasova  0.452  0.804  1.8   6.3  1.5  0.5  0.2  0.769231   \n",
       "\n",
       "    PS/G  \n",
       "0   22.8  \n",
       "1   10.9  \n",
       "2   15.0  \n",
       "3   18.2  \n",
       "4   17.9  \n",
       "5   11.8  \n",
       "6    7.9  \n",
       "7   22.3  \n",
       "8   25.9  \n",
       "9   10.0  \n",
       "10   9.7  \n",
       "11  13.7  \n",
       "12  11.6  \n",
       "13  13.0  "
      ]
     },
     "execution_count": 24,
     "metadata": {},
     "output_type": "execute_result"
    }
   ],
   "source": [
    "import espn_fantasy_scrape\n",
    "rosters = espn_fantasy_scrape.return_rosters()\n",
    "\n",
    "mysquad = rosters[\"delonte\\'s donuts\"]\n",
    "for nom in mysquad:\n",
    "    if nom == 'Otto Porter Jr.':\n",
    "        mysquad.remove(nom)\n",
    "        mysquad.append('Otto Porter')\n",
    "    if nom == 'Patty Mills':\n",
    "        mysquad.remove(nom)\n",
    "        mysquad.append('Patrick Mills')\n",
    "\n",
    "ser_plyr = []\n",
    "fr_plyr = []\n",
    "my_plyr_inds = []\n",
    "for player in mysquad:\n",
    "    if type(ptable.loc[player, feature_vec]) is pd.Series:\n",
    "        ser_plyr.append(player)\n",
    "        my_plyr_inds.append(ptable.index.get_loc(player))\n",
    "    if type(ptable.loc[player, feature_vec]) is pd.DataFrame:\n",
    "        fr_plyr.append(player)\n",
    "        my_plyr_inds.append(np.where(ptable.index.get_loc(player) == True)[0][0])\n",
    "mysqd_table = ptable.loc[ser_plyr, feature_vec]\n",
    "for fplayer in fr_plyr:\n",
    "    mysqd_table = mysqd_table.append(ptable.loc[fplayer, feature_vec].iloc[0, ])\n",
    "mysqd_table = mysqd_table.reset_index()\n",
    "\n",
    "mysqd_vec = mysqd_table.loc[:, feature_vec].mean(0)\n",
    "mysqd_table"
   ]
  },
  {
   "cell_type": "code",
   "execution_count": 33,
   "metadata": {
    "collapsed": false
   },
   "outputs": [
    {
     "name": "stdout",
     "output_type": "stream",
     "text": [
      "SVC prediction: 1\n",
      "SVC predict win: 0.7733, loss: 0.2267\n"
     ]
    }
   ],
   "source": [
    "ss_ptable = ss.fit_transform(ptable.loc[:, feature_vec])\n",
    "print('SVC prediction: %d' % gsfit.predict(ss_ptable[my_plyr_inds, :].mean(0)[np.newaxis, :]))\n",
    "l, w = gsfit.predict_proba(ss_ptable[my_plyr_inds, :].mean(0)[np.newaxis, :])[0]\n",
    "print('SVC predict win: %.4f, loss: %.4f' % (w, l))"
   ]
  },
  {
   "cell_type": "code",
   "execution_count": 26,
   "metadata": {
    "collapsed": false
   },
   "outputs": [],
   "source": [
    "def roster_indices(squad, ptable):\n",
    "    \"\"\"Give roster and get player indices.\n",
    "    \n",
    "    Example input arg:\n",
    "        squad: rosters[\"sami\\'s mannschaft\"]\n",
    "        ptable: player table from basketball-reference.com\n",
    "    \"\"\"\n",
    "    plyr_inds = []\n",
    "    for player in squad:\n",
    "        if player == 'Otto Porter Jr.':\n",
    "            player = 'Otto Porter'\n",
    "        if player == 'Patty Mills':\n",
    "            player = 'Patrick Mills'\n",
    "        if player == 'Louis Williams':\n",
    "            player = 'Lou Williams'\n",
    "        if player == 'TJ Warren':\n",
    "            player = 'T.J. Warren'\n",
    "        if type(ptable.loc[player, feature_vec]) is pd.Series:\n",
    "            plyr_inds.append(ptable.index.get_loc(player))\n",
    "        if type(ptable.loc[player, feature_vec]) is pd.DataFrame:\n",
    "            plyr_inds.append(np.where(ptable.index.get_loc(player) == True)[0][0])\n",
    "\n",
    "    return plyr_inds"
   ]
  },
  {
   "cell_type": "code",
   "execution_count": 27,
   "metadata": {
    "collapsed": false
   },
   "outputs": [
    {
     "data": {
      "text/plain": [
       "[\"sami's mannschaft\",\n",
       " 'conquest pain',\n",
       " 'no look no pass',\n",
       " 'what the blood clot',\n",
       " 'soccer karate',\n",
       " 'accidental twitter hog',\n",
       " \"conor's turpentines\",\n",
       " 'ian banh mahinmi',\n",
       " 'paul george, john and ...',\n",
       " \"delonte's donuts\"]"
      ]
     },
     "execution_count": 27,
     "metadata": {},
     "output_type": "execute_result"
    }
   ],
   "source": [
    "list(rosters.keys())"
   ]
  },
  {
   "cell_type": "code",
   "execution_count": 34,
   "metadata": {
    "collapsed": false
   },
   "outputs": [
    {
     "name": "stdout",
     "output_type": "stream",
     "text": [
      "sami's mannschaft SVC predict win: 0.7200, loss: 0.2800\n",
      "conquest pain SVC predict win: 0.7050, loss: 0.2950\n",
      "no look no pass SVC predict win: 0.7068, loss: 0.2932\n",
      "what the blood clot SVC predict win: 0.7122, loss: 0.2878\n",
      "soccer karate SVC predict win: 0.7099, loss: 0.2901\n",
      "accidental twitter hog SVC predict win: 0.7046, loss: 0.2954\n",
      "conor's turpentines SVC predict win: 0.7411, loss: 0.2589\n",
      "ian banh mahinmi SVC predict win: 0.6973, loss: 0.3027\n",
      "paul george, john and ... SVC predict win: 0.6575, loss: 0.3425\n",
      "delonte's donuts SVC predict win: 0.7733, loss: 0.2267\n"
     ]
    }
   ],
   "source": [
    "winpct = {}\n",
    "for ros in rosters:\n",
    "    indxs = roster_indices(rosters[ros], ptable)\n",
    "    l, w = gsfit.predict_proba(ss_ptable[indxs, :].mean(0)[np.newaxis, :])[0]\n",
    "    winpct[ros] = w\n",
    "    print('%s SVC predict win: %.4f, loss: %.4f' % (ros, w, l))"
   ]
  },
  {
   "cell_type": "markdown",
   "metadata": {},
   "source": [
    "## Predicted standings"
   ]
  },
  {
   "cell_type": "code",
   "execution_count": 35,
   "metadata": {
    "collapsed": false
   },
   "outputs": [
    {
     "name": "stdout",
     "output_type": "stream",
     "text": [
      "delonte's donuts SVC predict win: 0.7733\n",
      "conor's turpentines SVC predict win: 0.7411\n",
      "sami's mannschaft SVC predict win: 0.7200\n",
      "what the blood clot SVC predict win: 0.7122\n",
      "soccer karate SVC predict win: 0.7099\n",
      "no look no pass SVC predict win: 0.7068\n",
      "conquest pain SVC predict win: 0.7050\n",
      "accidental twitter hog SVC predict win: 0.7046\n",
      "ian banh mahinmi SVC predict win: 0.6973\n",
      "paul george, john and ... SVC predict win: 0.6575\n"
     ]
    }
   ],
   "source": [
    "import operator\n",
    "srtd_winpct = sorted(winpct.items(), key=operator.itemgetter(1), reverse=True)\n",
    "for tm in srtd_winpct:\n",
    "    print('%s SVC predict win: %.4f' % (tm[0], tm[1]))"
   ]
  },
  {
   "cell_type": "markdown",
   "metadata": {
    "collapsed": true
   },
   "source": [
    "## logistic regression"
   ]
  },
  {
   "cell_type": "code",
   "execution_count": 40,
   "metadata": {
    "collapsed": false
   },
   "outputs": [
    {
     "name": "stdout",
     "output_type": "stream",
     "text": [
      "Test accuracy: 0.767\n",
      "CV accuracy 0.649 +/- 0.072\n"
     ]
    }
   ],
   "source": [
    "from sklearn.decomposition import PCA\n",
    "from sklearn.linear_model import LogisticRegression\n",
    "from sklearn.pipeline import Pipeline\n",
    "from sklearn.cross_validation import cross_val_score\n",
    "\n",
    "\n",
    "pipe_lr = Pipeline([('pca', PCA()),\n",
    "                   ('clf', LogisticRegression())])\n",
    "pipe_lr.fit(X_train, y_train)\n",
    "print('Test accuracy: %.3f' % pipe_lr.score(X_test, y_test))\n",
    "scores = cross_val_score(estimator=pipe_lr, X=ssX, y=y, cv=10, n_jobs=-1)\n",
    "print('CV accuracy %.3f +/- %.3f' % (np.mean(scores), np.std(scores)))"
   ]
  },
  {
   "cell_type": "code",
   "execution_count": null,
   "metadata": {
    "collapsed": true
   },
   "outputs": [],
   "source": []
  }
 ],
 "metadata": {
  "kernelspec": {
   "display_name": "Python 3",
   "language": "python",
   "name": "python3"
  },
  "language_info": {
   "codemirror_mode": {
    "name": "ipython",
    "version": 3
   },
   "file_extension": ".py",
   "mimetype": "text/x-python",
   "name": "python",
   "nbconvert_exporter": "python",
   "pygments_lexer": "ipython3",
   "version": "3.5.1"
  }
 },
 "nbformat": 4,
 "nbformat_minor": 0
}
