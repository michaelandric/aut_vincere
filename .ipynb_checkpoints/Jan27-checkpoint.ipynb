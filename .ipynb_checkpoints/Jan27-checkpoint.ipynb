{
 "cells": [
  {
   "cell_type": "code",
   "execution_count": 1,
   "metadata": {
    "collapsed": true
   },
   "outputs": [],
   "source": [
    "import numpy as np\n",
    "import pandas as pd\n",
    "import warnings\n",
    "import codecs\n",
    "import os\n",
    "\n",
    "import aut_vinc_bballCrawler as bc"
   ]
  },
  {
   "cell_type": "markdown",
   "metadata": {},
   "source": [
    "## Get 2017 data"
   ]
  },
  {
   "cell_type": "code",
   "execution_count": 4,
   "metadata": {
    "collapsed": false,
    "scrolled": true
   },
   "outputs": [
    {
     "name": "stderr",
     "output_type": "stream",
     "text": [
      "/Users/andric/anaconda/envs/py35/lib/python3.5/site-packages/ipykernel/__main__.py:13: SettingWithCopyWarning: \n",
      "A value is trying to be set on a copy of a slice from a DataFrame\n",
      "\n",
      "See the caveats in the documentation: http://pandas.pydata.org/pandas-docs/stable/indexing.html#indexing-view-versus-copy\n"
     ]
    },
    {
     "data": {
      "text/html": [
       "<div>\n",
       "<table border=\"1\" class=\"dataframe\">\n",
       "  <thead>\n",
       "    <tr style=\"text-align: right;\">\n",
       "      <th></th>\n",
       "      <th>wk</th>\n",
       "      <th>season</th>\n",
       "      <th>fg.</th>\n",
       "      <th>ft.</th>\n",
       "      <th>X3p</th>\n",
       "      <th>trb</th>\n",
       "      <th>ast</th>\n",
       "      <th>stl</th>\n",
       "      <th>blk</th>\n",
       "      <th>tov</th>\n",
       "      <th>pts</th>\n",
       "    </tr>\n",
       "  </thead>\n",
       "  <tbody>\n",
       "    <tr>\n",
       "      <th>count</th>\n",
       "      <td>510.000000</td>\n",
       "      <td>510.000000</td>\n",
       "      <td>510.000000</td>\n",
       "      <td>510.000000</td>\n",
       "      <td>510.000000</td>\n",
       "      <td>510.000000</td>\n",
       "      <td>510.000000</td>\n",
       "      <td>510.000000</td>\n",
       "      <td>510.000000</td>\n",
       "      <td>510.000000</td>\n",
       "      <td>510.000000</td>\n",
       "    </tr>\n",
       "    <tr>\n",
       "      <th>mean</th>\n",
       "      <td>9.137255</td>\n",
       "      <td>1.901961</td>\n",
       "      <td>0.458251</td>\n",
       "      <td>0.775859</td>\n",
       "      <td>46.633333</td>\n",
       "      <td>241.570588</td>\n",
       "      <td>135.713725</td>\n",
       "      <td>42.568627</td>\n",
       "      <td>27.309804</td>\n",
       "      <td>12.718679</td>\n",
       "      <td>624.788235</td>\n",
       "    </tr>\n",
       "    <tr>\n",
       "      <th>std</th>\n",
       "      <td>5.123311</td>\n",
       "      <td>0.799187</td>\n",
       "      <td>0.024084</td>\n",
       "      <td>0.047587</td>\n",
       "      <td>14.087743</td>\n",
       "      <td>38.345061</td>\n",
       "      <td>24.312318</td>\n",
       "      <td>9.212094</td>\n",
       "      <td>9.054414</td>\n",
       "      <td>2.403201</td>\n",
       "      <td>89.294739</td>\n",
       "    </tr>\n",
       "    <tr>\n",
       "      <th>min</th>\n",
       "      <td>1.000000</td>\n",
       "      <td>1.000000</td>\n",
       "      <td>0.381200</td>\n",
       "      <td>0.611900</td>\n",
       "      <td>14.000000</td>\n",
       "      <td>132.000000</td>\n",
       "      <td>73.000000</td>\n",
       "      <td>19.000000</td>\n",
       "      <td>7.000000</td>\n",
       "      <td>8.130081</td>\n",
       "      <td>363.000000</td>\n",
       "    </tr>\n",
       "    <tr>\n",
       "      <th>25%</th>\n",
       "      <td>5.000000</td>\n",
       "      <td>1.000000</td>\n",
       "      <td>0.441675</td>\n",
       "      <td>0.746200</td>\n",
       "      <td>36.000000</td>\n",
       "      <td>213.000000</td>\n",
       "      <td>119.000000</td>\n",
       "      <td>37.000000</td>\n",
       "      <td>21.000000</td>\n",
       "      <td>11.111111</td>\n",
       "      <td>569.000000</td>\n",
       "    </tr>\n",
       "    <tr>\n",
       "      <th>50%</th>\n",
       "      <td>9.000000</td>\n",
       "      <td>2.000000</td>\n",
       "      <td>0.458350</td>\n",
       "      <td>0.780550</td>\n",
       "      <td>45.000000</td>\n",
       "      <td>239.000000</td>\n",
       "      <td>135.000000</td>\n",
       "      <td>42.000000</td>\n",
       "      <td>26.000000</td>\n",
       "      <td>12.345679</td>\n",
       "      <td>625.000000</td>\n",
       "    </tr>\n",
       "    <tr>\n",
       "      <th>75%</th>\n",
       "      <td>13.000000</td>\n",
       "      <td>3.000000</td>\n",
       "      <td>0.475825</td>\n",
       "      <td>0.810050</td>\n",
       "      <td>56.750000</td>\n",
       "      <td>268.000000</td>\n",
       "      <td>152.000000</td>\n",
       "      <td>48.000000</td>\n",
       "      <td>33.000000</td>\n",
       "      <td>13.888889</td>\n",
       "      <td>677.750000</td>\n",
       "    </tr>\n",
       "    <tr>\n",
       "      <th>max</th>\n",
       "      <td>19.000000</td>\n",
       "      <td>3.000000</td>\n",
       "      <td>0.528100</td>\n",
       "      <td>0.902000</td>\n",
       "      <td>90.000000</td>\n",
       "      <td>356.000000</td>\n",
       "      <td>205.000000</td>\n",
       "      <td>78.000000</td>\n",
       "      <td>64.000000</td>\n",
       "      <td>23.809524</td>\n",
       "      <td>920.000000</td>\n",
       "    </tr>\n",
       "  </tbody>\n",
       "</table>\n",
       "</div>"
      ],
      "text/plain": [
       "               wk      season         fg.         ft.         X3p         trb  \\\n",
       "count  510.000000  510.000000  510.000000  510.000000  510.000000  510.000000   \n",
       "mean     9.137255    1.901961    0.458251    0.775859   46.633333  241.570588   \n",
       "std      5.123311    0.799187    0.024084    0.047587   14.087743   38.345061   \n",
       "min      1.000000    1.000000    0.381200    0.611900   14.000000  132.000000   \n",
       "25%      5.000000    1.000000    0.441675    0.746200   36.000000  213.000000   \n",
       "50%      9.000000    2.000000    0.458350    0.780550   45.000000  239.000000   \n",
       "75%     13.000000    3.000000    0.475825    0.810050   56.750000  268.000000   \n",
       "max     19.000000    3.000000    0.528100    0.902000   90.000000  356.000000   \n",
       "\n",
       "              ast         stl         blk         tov         pts  \n",
       "count  510.000000  510.000000  510.000000  510.000000  510.000000  \n",
       "mean   135.713725   42.568627   27.309804   12.718679  624.788235  \n",
       "std     24.312318    9.212094    9.054414    2.403201   89.294739  \n",
       "min     73.000000   19.000000    7.000000    8.130081  363.000000  \n",
       "25%    119.000000   37.000000   21.000000   11.111111  569.000000  \n",
       "50%    135.000000   42.000000   26.000000   12.345679  625.000000  \n",
       "75%    152.000000   48.000000   33.000000   13.888889  677.750000  \n",
       "max    205.000000   78.000000   64.000000   23.809524  920.000000  "
      ]
     },
     "execution_count": 4,
     "metadata": {},
     "output_type": "execute_result"
    }
   ],
   "source": [
    "pergame = bc.getSoupFromURL('http://www.basketball-reference.com/leagues/NBA_2017_per_game.html')\n",
    "pg = pergame.findAll('table')\n",
    "header = []\n",
    "for th in pg[0].findAll('th'):\n",
    "    if not th.getText() in header:\n",
    "        header.append(th.getText())\n",
    "rows = pg[0].findAll('tr')[1:]  # all rows but the header\n",
    "rows = [r for r in rows if len(r.findAll('td')) > 0]\n",
    "parsed_table = [[col.getText() for col in row.findAll('td')] for row in rows]\n",
    "ptable = pd.io.parsers.TextParser(parsed_table, names=header[1:30], index_col=0).get_chunk()\n",
    "# invert the turnover metric\n",
    "ptable.TOV = 1/ptable.TOV\n",
    "ptable.TOV[np.isinf(ptable.TOV)] = ptable.TOV[~np.isinf(ptable.TOV)].mean()\n",
    "ptable.replace(np.nan, 0, inplace=True)\n",
    "feature_vec = ['FG%','FT%','3P','TRB','AST','STL','BLK','TOV','PS/G']\n",
    "\n",
    "bt = pd.read_excel('autvinc_table.xlsx')\n",
    "bt.tov = (1/bt.tov)*(10**3)\n",
    "bt.describe()"
   ]
  },
  {
   "cell_type": "code",
   "execution_count": 5,
   "metadata": {
    "collapsed": true
   },
   "outputs": [],
   "source": [
    "from sklearn.cross_validation import train_test_split\n",
    "from sklearn.preprocessing import LabelEncoder\n",
    "from sklearn.preprocessing import StandardScaler"
   ]
  },
  {
   "cell_type": "code",
   "execution_count": 6,
   "metadata": {
    "collapsed": false
   },
   "outputs": [],
   "source": [
    "X = np.array(bt.iloc[:,3:])\n",
    "ss = StandardScaler()\n",
    "ssX = ss.fit_transform(X)\n",
    "labels = []\n",
    "for i in range(0, X.shape[0], 2):\n",
    "    if len(np.where((X[i, :] - X[i+1,:]) > 0)[0]) > 5:\n",
    "        labels.append('win')\n",
    "        labels.append('loss')\n",
    "    else:\n",
    "        labels.append('loss')\n",
    "        labels.append('win')\n",
    "\n",
    "le = LabelEncoder()\n",
    "y = le.fit_transform(np.array(labels))\n",
    "X_train, X_test, y_train, y_test = train_test_split(ssX, y,\n",
    "                                                    test_size=0.2)"
   ]
  },
  {
   "cell_type": "code",
   "execution_count": 7,
   "metadata": {
    "collapsed": false
   },
   "outputs": [
    {
     "name": "stdout",
     "output_type": "stream",
     "text": [
      "  1) PS/G                           0.161676\n",
      "  2) FG%                            0.130873\n",
      "  3) BLK                            0.110544\n",
      "  4) AST                            0.108184\n",
      "  5) TRB                            0.106167\n",
      "  6) FT%                            0.100237\n",
      "  7) 3P                             0.098114\n",
      "  8) STL                            0.094095\n",
      "  9) TOV                            0.090110\n"
     ]
    }
   ],
   "source": [
    "from sklearn.ensemble import RandomForestClassifier\n",
    "feat_labels = feature_vec\n",
    "forest = RandomForestClassifier(n_estimators=25, n_jobs=-1, criterion='entropy')\n",
    "forest.fit(X_train, y_train)\n",
    "\n",
    "importances = forest.feature_importances_\n",
    "indices = np.argsort(importances)[::-1]\n",
    "for f in range(X_train.shape[1]):\n",
    "    print(\"%3d) %-*s %f\" % (f+1, 30, feat_labels[indices[f]], importances[indices[f]]))"
   ]
  },
  {
   "cell_type": "code",
   "execution_count": 8,
   "metadata": {
    "collapsed": false
   },
   "outputs": [],
   "source": [
    "from sklearn.metrics import accuracy_score"
   ]
  },
  {
   "cell_type": "code",
   "execution_count": 9,
   "metadata": {
    "collapsed": false
   },
   "outputs": [
    {
     "name": "stdout",
     "output_type": "stream",
     "text": [
      "Train/test accuracies: 1.000/0.627\n"
     ]
    }
   ],
   "source": [
    "y_train_pred = forest.predict(X_train)\n",
    "y_test_pred = forest.predict(X_test)\n",
    "forest_train = accuracy_score(y_train, y_train_pred)\n",
    "forest_test = accuracy_score(y_test, y_test_pred)\n",
    "print('Train/test accuracies: %.3f/%.3f' % (forest_train, forest_test))"
   ]
  },
  {
   "cell_type": "markdown",
   "metadata": {},
   "source": [
    "## SVC and tuning"
   ]
  },
  {
   "cell_type": "code",
   "execution_count": 10,
   "metadata": {
    "collapsed": true
   },
   "outputs": [],
   "source": [
    "from sklearn.decomposition import PCA\n",
    "from sklearn.pipeline import Pipeline\n",
    "from sklearn.preprocessing import StandardScaler\n",
    "from sklearn.grid_search import GridSearchCV\n",
    "from sklearn.svm import SVC\n",
    "from sklearn.cross_validation import cross_val_score"
   ]
  },
  {
   "cell_type": "code",
   "execution_count": 11,
   "metadata": {
    "collapsed": false
   },
   "outputs": [
    {
     "name": "stdout",
     "output_type": "stream",
     "text": [
      "Best parameters: {'clf__gamma': 0.1, 'pca__n_components': 5, 'clf__kernel': 'rbf', 'clf__C': 0.1}\n",
      "Pipeline(steps=[('pca', PCA(copy=True, n_components=5, whiten=False)), ('clf', SVC(C=0.1, cache_size=200, class_weight=None, coef0=0.0,\n",
      "  decision_function_shape=None, degree=3, gamma=0.1, kernel='rbf',\n",
      "  max_iter=-1, probability=True, random_state=None, shrinking=True,\n",
      "  tol=0.001, verbose=False))])\n",
      "Best score: 0.667\n",
      "CV accuracy 0.538 +/- 0.072\n"
     ]
    }
   ],
   "source": [
    "pipe_svc = Pipeline([('pca', PCA()),\n",
    "                     ('clf', SVC(probability=True))])\n",
    "\n",
    "param_range = [10**-4, 10**-3, 10**-2, 10**-1, 1.0, 10.0, 10**2]\n",
    "param_grid = [{'pca__n_components': [3, 4, 5],\n",
    "               'clf__C': param_range,\n",
    "               'clf__kernel': ['linear']},\n",
    "              {'pca__n_components': [3, 4, 5],\n",
    "               'clf__C': param_range,\n",
    "               'clf__gamma': param_range,\n",
    "               'clf__kernel': ['rbf']}]\n",
    "gs = GridSearchCV(estimator=pipe_svc,\n",
    "                 param_grid=param_grid,\n",
    "                 scoring='accuracy',\n",
    "                 cv=5,\n",
    "                 n_jobs=-1)\n",
    "gsfit = gs.fit(X_train, y_train)\n",
    "print('Best parameters: %s' % gsfit.best_params_)\n",
    "print(gsfit.best_estimator_)\n",
    "print('Best score: %.3f' % gsfit.best_score_)\n",
    "scores = cross_val_score(gsfit.best_estimator_, X=X_test, y=y_test, cv=5, n_jobs=-1)\n",
    "print('CV accuracy %.3f +/- %.3f' % (np.mean(scores), np.std(scores)))"
   ]
  },
  {
   "cell_type": "code",
   "execution_count": 19,
   "metadata": {
    "collapsed": false
   },
   "outputs": [
    {
     "name": "stdout",
     "output_type": "stream",
     "text": [
      "{'gamma': 0.1, 'kernel': 'rbf', 'C': 0.1}\n",
      "SVC(C=0.1, cache_size=200, class_weight=None, coef0=0.0,\n",
      "  decision_function_shape=None, degree=3, gamma=0.1, kernel='rbf',\n",
      "  max_iter=-1, probability=True, random_state=None, shrinking=True,\n",
      "  tol=0.001, verbose=False)\n",
      "Best score: 0.662\n",
      "CV accuracy 0.510 +/- 0.012\n"
     ]
    }
   ],
   "source": [
    "svc = SVC(probability=True)\n",
    "\n",
    "param_range = [10**-4, 10**-3, 10**-2, 10**-1, 1.0, 10.0, 10**2]\n",
    "param_grid = [{'C': param_range,\n",
    "               'kernel': ['linear']},\n",
    "              {'C': param_range,\n",
    "               'gamma': param_range,\n",
    "               'kernel': ['rbf']}]\n",
    "gs = GridSearchCV(estimator=svc,\n",
    "                 param_grid=param_grid,\n",
    "                 scoring='accuracy',\n",
    "                 cv=5,\n",
    "                 n_jobs=-1)\n",
    "gsfit = gs.fit(X_train, y_train)\n",
    "print(gsfit.best_params_)\n",
    "print(gsfit.best_estimator_)\n",
    "print('Best score: %.3f' % gsfit.best_score_)\n",
    "scores = cross_val_score(gsfit.best_estimator_, X=X_test, y=y_test, cv=5, n_jobs=-1)\n",
    "print('CV accuracy %.3f +/- %.3f' % (np.mean(scores), np.std(scores)))"
   ]
  },
  {
   "cell_type": "code",
   "execution_count": 20,
   "metadata": {
    "collapsed": false
   },
   "outputs": [
    {
     "name": "stdout",
     "output_type": "stream",
     "text": [
      "SVC acc: 0.656 +/- 0.048\n"
     ]
    }
   ],
   "source": [
    "#svc = SVC(C=10, gamma=.001, kernel='rbf', probability=True)\n",
    "svc = SVC(C=1, gamma=.01, kernel='rbf', probability=True)\n",
    "svc.fit(X_train, y_train)\n",
    "svcscores = cross_val_score(svc, X=X_test, y=y_test, cv=5, n_jobs=-1)\n",
    "print('SVC acc: %.3f +/- %.3f' % (np.mean(svcscores), np.std(svcscores)))"
   ]
  },
  {
   "cell_type": "markdown",
   "metadata": {},
   "source": [
    "## Get league rosters"
   ]
  },
  {
   "cell_type": "code",
   "execution_count": 23,
   "metadata": {
    "collapsed": false,
    "scrolled": true
   },
   "outputs": [
    {
     "name": "stdout",
     "output_type": "stream",
     "text": [
      "username: ········\n",
      "password: ········\n"
     ]
    },
    {
     "data": {
      "text/html": [
       "<div>\n",
       "<table border=\"1\" class=\"dataframe\">\n",
       "  <thead>\n",
       "    <tr style=\"text-align: right;\">\n",
       "      <th></th>\n",
       "      <th>Player</th>\n",
       "      <th>FG%</th>\n",
       "      <th>FT%</th>\n",
       "      <th>3P</th>\n",
       "      <th>TRB</th>\n",
       "      <th>AST</th>\n",
       "      <th>STL</th>\n",
       "      <th>BLK</th>\n",
       "      <th>TOV</th>\n",
       "      <th>PS/G</th>\n",
       "    </tr>\n",
       "  </thead>\n",
       "  <tbody>\n",
       "    <tr>\n",
       "      <th>0</th>\n",
       "      <td>Kemba Walker</td>\n",
       "      <td>0.455</td>\n",
       "      <td>0.833</td>\n",
       "      <td>2.8</td>\n",
       "      <td>4.1</td>\n",
       "      <td>5.5</td>\n",
       "      <td>1.2</td>\n",
       "      <td>0.3</td>\n",
       "      <td>0.434783</td>\n",
       "      <td>22.9</td>\n",
       "    </tr>\n",
       "    <tr>\n",
       "      <th>1</th>\n",
       "      <td>Giannis Antetokounmpo</td>\n",
       "      <td>0.522</td>\n",
       "      <td>0.785</td>\n",
       "      <td>0.7</td>\n",
       "      <td>8.7</td>\n",
       "      <td>5.5</td>\n",
       "      <td>1.8</td>\n",
       "      <td>2.0</td>\n",
       "      <td>0.333333</td>\n",
       "      <td>23.1</td>\n",
       "    </tr>\n",
       "    <tr>\n",
       "      <th>2</th>\n",
       "      <td>Kevin Durant</td>\n",
       "      <td>0.543</td>\n",
       "      <td>0.872</td>\n",
       "      <td>1.9</td>\n",
       "      <td>8.4</td>\n",
       "      <td>4.8</td>\n",
       "      <td>1.1</td>\n",
       "      <td>1.7</td>\n",
       "      <td>0.434783</td>\n",
       "      <td>26.1</td>\n",
       "    </tr>\n",
       "    <tr>\n",
       "      <th>3</th>\n",
       "      <td>Myles Turner</td>\n",
       "      <td>0.535</td>\n",
       "      <td>0.801</td>\n",
       "      <td>0.7</td>\n",
       "      <td>7.4</td>\n",
       "      <td>1.0</td>\n",
       "      <td>0.8</td>\n",
       "      <td>2.3</td>\n",
       "      <td>0.714286</td>\n",
       "      <td>15.8</td>\n",
       "    </tr>\n",
       "    <tr>\n",
       "      <th>4</th>\n",
       "      <td>Joel Embiid</td>\n",
       "      <td>0.466</td>\n",
       "      <td>0.783</td>\n",
       "      <td>1.2</td>\n",
       "      <td>7.8</td>\n",
       "      <td>2.1</td>\n",
       "      <td>0.9</td>\n",
       "      <td>2.5</td>\n",
       "      <td>0.263158</td>\n",
       "      <td>20.2</td>\n",
       "    </tr>\n",
       "    <tr>\n",
       "      <th>5</th>\n",
       "      <td>Patrick Beverley</td>\n",
       "      <td>0.428</td>\n",
       "      <td>0.813</td>\n",
       "      <td>1.6</td>\n",
       "      <td>5.7</td>\n",
       "      <td>4.4</td>\n",
       "      <td>1.5</td>\n",
       "      <td>0.5</td>\n",
       "      <td>0.714286</td>\n",
       "      <td>9.2</td>\n",
       "    </tr>\n",
       "    <tr>\n",
       "      <th>6</th>\n",
       "      <td>Jahlil Okafor</td>\n",
       "      <td>0.520</td>\n",
       "      <td>0.612</td>\n",
       "      <td>0.0</td>\n",
       "      <td>4.7</td>\n",
       "      <td>1.1</td>\n",
       "      <td>0.4</td>\n",
       "      <td>1.1</td>\n",
       "      <td>0.666667</td>\n",
       "      <td>11.5</td>\n",
       "    </tr>\n",
       "    <tr>\n",
       "      <th>7</th>\n",
       "      <td>Rudy Gobert</td>\n",
       "      <td>0.659</td>\n",
       "      <td>0.661</td>\n",
       "      <td>0.0</td>\n",
       "      <td>12.6</td>\n",
       "      <td>0.9</td>\n",
       "      <td>0.7</td>\n",
       "      <td>2.5</td>\n",
       "      <td>0.555556</td>\n",
       "      <td>13.1</td>\n",
       "    </tr>\n",
       "    <tr>\n",
       "      <th>8</th>\n",
       "      <td>Jameer Nelson</td>\n",
       "      <td>0.440</td>\n",
       "      <td>0.738</td>\n",
       "      <td>1.2</td>\n",
       "      <td>2.1</td>\n",
       "      <td>4.6</td>\n",
       "      <td>0.6</td>\n",
       "      <td>0.1</td>\n",
       "      <td>0.555556</td>\n",
       "      <td>8.8</td>\n",
       "    </tr>\n",
       "    <tr>\n",
       "      <th>9</th>\n",
       "      <td>Terrence Jones</td>\n",
       "      <td>0.474</td>\n",
       "      <td>0.609</td>\n",
       "      <td>0.4</td>\n",
       "      <td>5.9</td>\n",
       "      <td>1.2</td>\n",
       "      <td>0.8</td>\n",
       "      <td>1.1</td>\n",
       "      <td>1.111111</td>\n",
       "      <td>11.3</td>\n",
       "    </tr>\n",
       "    <tr>\n",
       "      <th>10</th>\n",
       "      <td>Chris Paul</td>\n",
       "      <td>0.471</td>\n",
       "      <td>0.876</td>\n",
       "      <td>1.9</td>\n",
       "      <td>5.3</td>\n",
       "      <td>9.7</td>\n",
       "      <td>2.2</td>\n",
       "      <td>0.1</td>\n",
       "      <td>0.416667</td>\n",
       "      <td>17.5</td>\n",
       "    </tr>\n",
       "    <tr>\n",
       "      <th>11</th>\n",
       "      <td>T.J. McConnell</td>\n",
       "      <td>0.453</td>\n",
       "      <td>0.762</td>\n",
       "      <td>0.1</td>\n",
       "      <td>2.9</td>\n",
       "      <td>6.1</td>\n",
       "      <td>1.4</td>\n",
       "      <td>0.1</td>\n",
       "      <td>0.555556</td>\n",
       "      <td>5.7</td>\n",
       "    </tr>\n",
       "    <tr>\n",
       "      <th>12</th>\n",
       "      <td>Otto Porter</td>\n",
       "      <td>0.535</td>\n",
       "      <td>0.768</td>\n",
       "      <td>2.0</td>\n",
       "      <td>6.5</td>\n",
       "      <td>1.6</td>\n",
       "      <td>1.5</td>\n",
       "      <td>0.6</td>\n",
       "      <td>1.428571</td>\n",
       "      <td>14.3</td>\n",
       "    </tr>\n",
       "    <tr>\n",
       "      <th>13</th>\n",
       "      <td>Ersan Ilyasova</td>\n",
       "      <td>0.453</td>\n",
       "      <td>0.784</td>\n",
       "      <td>2.1</td>\n",
       "      <td>6.1</td>\n",
       "      <td>1.7</td>\n",
       "      <td>0.6</td>\n",
       "      <td>0.3</td>\n",
       "      <td>0.666667</td>\n",
       "      <td>14.6</td>\n",
       "    </tr>\n",
       "  </tbody>\n",
       "</table>\n",
       "</div>"
      ],
      "text/plain": [
       "                   Player    FG%    FT%   3P   TRB  AST  STL  BLK       TOV  \\\n",
       "0            Kemba Walker  0.455  0.833  2.8   4.1  5.5  1.2  0.3  0.434783   \n",
       "1   Giannis Antetokounmpo  0.522  0.785  0.7   8.7  5.5  1.8  2.0  0.333333   \n",
       "2            Kevin Durant  0.543  0.872  1.9   8.4  4.8  1.1  1.7  0.434783   \n",
       "3            Myles Turner  0.535  0.801  0.7   7.4  1.0  0.8  2.3  0.714286   \n",
       "4             Joel Embiid  0.466  0.783  1.2   7.8  2.1  0.9  2.5  0.263158   \n",
       "5        Patrick Beverley  0.428  0.813  1.6   5.7  4.4  1.5  0.5  0.714286   \n",
       "6           Jahlil Okafor  0.520  0.612  0.0   4.7  1.1  0.4  1.1  0.666667   \n",
       "7             Rudy Gobert  0.659  0.661  0.0  12.6  0.9  0.7  2.5  0.555556   \n",
       "8           Jameer Nelson  0.440  0.738  1.2   2.1  4.6  0.6  0.1  0.555556   \n",
       "9          Terrence Jones  0.474  0.609  0.4   5.9  1.2  0.8  1.1  1.111111   \n",
       "10             Chris Paul  0.471  0.876  1.9   5.3  9.7  2.2  0.1  0.416667   \n",
       "11         T.J. McConnell  0.453  0.762  0.1   2.9  6.1  1.4  0.1  0.555556   \n",
       "12            Otto Porter  0.535  0.768  2.0   6.5  1.6  1.5  0.6  1.428571   \n",
       "13         Ersan Ilyasova  0.453  0.784  2.1   6.1  1.7  0.6  0.3  0.666667   \n",
       "\n",
       "    PS/G  \n",
       "0   22.9  \n",
       "1   23.1  \n",
       "2   26.1  \n",
       "3   15.8  \n",
       "4   20.2  \n",
       "5    9.2  \n",
       "6   11.5  \n",
       "7   13.1  \n",
       "8    8.8  \n",
       "9   11.3  \n",
       "10  17.5  \n",
       "11   5.7  \n",
       "12  14.3  \n",
       "13  14.6  "
      ]
     },
     "execution_count": 23,
     "metadata": {},
     "output_type": "execute_result"
    }
   ],
   "source": [
    "import espn_fantasy_scrape\n",
    "rosters = espn_fantasy_scrape.return_rosters()\n",
    "\n",
    "mysquad = rosters[\"delonte\\'s donuts\"]\n",
    "for nom in mysquad:\n",
    "    if nom == 'Otto Porter Jr.':\n",
    "        mysquad.remove(nom)\n",
    "        mysquad.append('Otto Porter')\n",
    "    if nom == 'TJ McConnell':\n",
    "        mysquad.remove(nom)\n",
    "        mysquad.append('T.J. McConnell')\n",
    "\n",
    "ser_plyr = []\n",
    "fr_plyr = []\n",
    "my_plyr_inds = []\n",
    "for player in mysquad:\n",
    "    if type(ptable.loc[player, feature_vec]) is pd.Series:\n",
    "        ser_plyr.append(player)\n",
    "        my_plyr_inds.append(ptable.index.get_loc(player))\n",
    "    if type(ptable.loc[player, feature_vec]) is pd.DataFrame:\n",
    "        fr_plyr.append(player)\n",
    "        my_plyr_inds.append(np.where(ptable.index.get_loc(player) == True)[0][0])\n",
    "mysqd_table = ptable.loc[ser_plyr, feature_vec]\n",
    "for fplayer in fr_plyr:\n",
    "    mysqd_table = mysqd_table.append(ptable.loc[fplayer, feature_vec].iloc[0, ])\n",
    "mysqd_table = mysqd_table.reset_index()\n",
    "\n",
    "mysqd_vec = mysqd_table.loc[:, feature_vec].mean(0)\n",
    "mysqd_table"
   ]
  },
  {
   "cell_type": "code",
   "execution_count": 82,
   "metadata": {
    "collapsed": false
   },
   "outputs": [
    {
     "name": "stdout",
     "output_type": "stream",
     "text": [
      "SVC prediction: 1\n",
      "SVC predict win: 0.8740, loss: 0.1260\n"
     ]
    }
   ],
   "source": [
    "ss_ptable = ss.fit_transform(ptable.loc[:, feature_vec])\n",
    "print('SVC prediction: %d' % gsfit.predict(ss_ptable[my_plyr_inds, :].mean(0)[np.newaxis, :]))\n",
    "l, w = gsfit.predict_proba(ss_ptable[my_plyr_inds, :].mean(0)[np.newaxis, :])[0]\n",
    "print('SVC predict win: %.4f, loss: %.4f' % (w, l))"
   ]
  },
  {
   "cell_type": "code",
   "execution_count": 47,
   "metadata": {
    "collapsed": false
   },
   "outputs": [],
   "source": [
    "def roster_indices(squad, ptable):\n",
    "    \"\"\"Give roster and get player indices.\n",
    "    \n",
    "    Example input arg:\n",
    "        squad: rosters[\"sami\\'s mannschaft\"]\n",
    "        ptable: player table from basketball-reference.com\n",
    "    \"\"\"\n",
    "    plyr_inds = []\n",
    "    for player in squad:\n",
    "        if player == 'Otto Porter Jr.':\n",
    "            player = 'Otto Porter'\n",
    "        if player == 'TJ McConnell':\n",
    "            player = 'T.J. McConnell'\n",
    "        if player == 'Louis Williams':\n",
    "            player = 'Lou Williams'\n",
    "        if player == 'TJ Warren':\n",
    "            player = 'T.J. Warren'\n",
    "        if player == 'Tim Hardaway Jr.':\n",
    "            player = 'Tim Hardaway'\n",
    "        if player == 'Ben Simmons':\n",
    "            continue\n",
    "        if type(ptable.loc[player, feature_vec]) is pd.Series:\n",
    "            plyr_inds.append(ptable.index.get_loc(player))\n",
    "        if type(ptable.loc[player, feature_vec]) is pd.DataFrame:\n",
    "            plyr_inds.append(np.where(ptable.index.get_loc(player) == True)[0][0])\n",
    "\n",
    "    return plyr_inds"
   ]
  },
  {
   "cell_type": "code",
   "execution_count": 35,
   "metadata": {
    "collapsed": false,
    "scrolled": true
   },
   "outputs": [
    {
     "data": {
      "text/plain": [
       "[\"conor's turpentines\",\n",
       " 'what the blood clot',\n",
       " 'paul george, john and ...',\n",
       " 'no look no pass',\n",
       " \"sami's mannschaft\",\n",
       " 'ian banh mahinmi',\n",
       " 'accidental twitter hog',\n",
       " 'conquest pain',\n",
       " 'soccer karate',\n",
       " \"delonte's donuts\"]"
      ]
     },
     "execution_count": 35,
     "metadata": {},
     "output_type": "execute_result"
    }
   ],
   "source": [
    "list(rosters.keys())"
   ]
  },
  {
   "cell_type": "code",
   "execution_count": 83,
   "metadata": {
    "collapsed": false,
    "scrolled": true
   },
   "outputs": [
    {
     "name": "stdout",
     "output_type": "stream",
     "text": [
      "conor's turpentines SVC predict win: 0.8705, loss: 0.1295\n",
      "what the blood clot SVC predict win: 0.8684, loss: 0.1316\n",
      "paul george, john and ... SVC predict win: 0.8479, loss: 0.1521\n",
      "no look no pass SVC predict win: 0.8620, loss: 0.1380\n",
      "sami's mannschaft SVC predict win: 0.8695, loss: 0.1305\n",
      "ian banh mahinmi SVC predict win: 0.8569, loss: 0.1431\n",
      "accidental twitter hog SVC predict win: 0.8700, loss: 0.1300\n",
      "conquest pain SVC predict win: 0.8582, loss: 0.1418\n",
      "soccer karate SVC predict win: 0.8477, loss: 0.1523\n",
      "delonte's donuts SVC predict win: 0.8740, loss: 0.1260\n"
     ]
    }
   ],
   "source": [
    "winpct = {}\n",
    "for ros in rosters:\n",
    "    indxs = roster_indices(rosters[ros], ptable)\n",
    "    l, w = gsfit.predict_proba(ss_ptable[indxs, :].mean(0)[np.newaxis, :])[0]\n",
    "    winpct[ros] = w\n",
    "    print('%s SVC predict win: %.4f, loss: %.4f' % (ros, w, l))"
   ]
  },
  {
   "cell_type": "code",
   "execution_count": 84,
   "metadata": {
    "collapsed": false
   },
   "outputs": [
    {
     "name": "stdout",
     "output_type": "stream",
     "text": [
      "delonte's donuts SVC predict win: 0.7983\n",
      "what the blood clot SVC predict win: 0.7594\n",
      "conor's turpentines SVC predict win: 0.7541\n",
      "accidental twitter hog SVC predict win: 0.7386\n",
      "sami's mannschaft SVC predict win: 0.7332\n",
      "soccer karate SVC predict win: 0.7282\n",
      "no look no pass SVC predict win: 0.7220\n",
      "conquest pain SVC predict win: 0.7213\n",
      "ian banh mahinmi SVC predict win: 0.7099\n",
      "paul george, john and ... SVC predict win: 0.6976\n"
     ]
    }
   ],
   "source": [
    "import operator\n",
    "winpct = {}\n",
    "for ros in rosters:\n",
    "    indxs = roster_indices(rosters[ros], ptable)\n",
    "    l, w = svc.predict_proba(ss_ptable[indxs, :].mean(0)[np.newaxis, :])[0]\n",
    "    winpct[ros] = w\n",
    "    #print('%s SVC predict win: %.4f, loss: %.4f' % (ros, w, l))\n",
    "\n",
    "srtd_winpct = sorted(winpct.items(), key=operator.itemgetter(1), reverse=True)\n",
    "for tm in srtd_winpct:\n",
    "    print('%s SVC predict win: %.4f' % (tm[0], tm[1]))"
   ]
  },
  {
   "cell_type": "code",
   "execution_count": 53,
   "metadata": {
    "collapsed": false
   },
   "outputs": [
    {
     "data": {
      "text/plain": [
       "14"
      ]
     },
     "execution_count": 53,
     "metadata": {},
     "output_type": "execute_result"
    }
   ],
   "source": [
    "len(rosters['soccer karate'])"
   ]
  },
  {
   "cell_type": "markdown",
   "metadata": {},
   "source": [
    "## Predicted standings"
   ]
  },
  {
   "cell_type": "code",
   "execution_count": 85,
   "metadata": {
    "collapsed": false
   },
   "outputs": [
    {
     "name": "stdout",
     "output_type": "stream",
     "text": [
      "delonte's donuts SVC predict win: 0.7983\n",
      "what the blood clot SVC predict win: 0.7594\n",
      "conor's turpentines SVC predict win: 0.7541\n",
      "accidental twitter hog SVC predict win: 0.7386\n",
      "sami's mannschaft SVC predict win: 0.7332\n",
      "soccer karate SVC predict win: 0.7282\n",
      "no look no pass SVC predict win: 0.7220\n",
      "conquest pain SVC predict win: 0.7213\n",
      "ian banh mahinmi SVC predict win: 0.7099\n",
      "paul george, john and ... SVC predict win: 0.6976\n"
     ]
    }
   ],
   "source": [
    "import operator\n",
    "srtd_winpct = sorted(winpct.items(), key=operator.itemgetter(1), reverse=True)\n",
    "for tm in srtd_winpct:\n",
    "    print('%s SVC predict win: %.4f' % (tm[0], tm[1]))"
   ]
  },
  {
   "cell_type": "markdown",
   "metadata": {
    "collapsed": true
   },
   "source": [
    "## logistic regression"
   ]
  },
  {
   "cell_type": "code",
   "execution_count": 86,
   "metadata": {
    "collapsed": false
   },
   "outputs": [
    {
     "name": "stdout",
     "output_type": "stream",
     "text": [
      "Test accuracy: 0.570\n",
      "CV accuracy 0.638 +/- 0.023\n"
     ]
    }
   ],
   "source": [
    "from sklearn.decomposition import PCA\n",
    "from sklearn.linear_model import LogisticRegression\n",
    "from sklearn.pipeline import Pipeline\n",
    "from sklearn.cross_validation import cross_val_score\n",
    "\n",
    "\n",
    "pipe_lr = Pipeline([('pca', PCA()),\n",
    "                   ('clf', LogisticRegression())])\n",
    "pipe_lr.fit(X_train, y_train)\n",
    "print('Test accuracy: %.3f' % pipe_lr.score(X_test, y_test))\n",
    "scores = cross_val_score(estimator=pipe_lr, X=ssX, y=y, cv=5, n_jobs=-1)\n",
    "print('CV accuracy %.3f +/- %.3f' % (np.mean(scores), np.std(scores)))"
   ]
  },
  {
   "cell_type": "code",
   "execution_count": 87,
   "metadata": {
    "collapsed": false
   },
   "outputs": [
    {
     "name": "stdout",
     "output_type": "stream",
     "text": [
      "logistic regression accuracy: 0.654 +/- 0.052\n"
     ]
    }
   ],
   "source": [
    "lr = LogisticRegression()\n",
    "#lr.fit(X_train, y_train)\n",
    "scores = cross_val_score(estimator=lr, X=ssX, y=y, cv=10, n_jobs=-1)\n",
    "print('logistic regression accuracy: %.3f +/- %.3f' % (scores.mean(), scores.std()))"
   ]
  },
  {
   "cell_type": "code",
   "execution_count": 88,
   "metadata": {
    "collapsed": false
   },
   "outputs": [
    {
     "name": "stdout",
     "output_type": "stream",
     "text": [
      "Accuracy: 0.570\n"
     ]
    }
   ],
   "source": [
    "lr.fit(X_train, y_train)\n",
    "acc_score = accuracy_score(y_test, lr.predict(X_test))\n",
    "print('Accuracy: %.3f' % (acc_score))"
   ]
  },
  {
   "cell_type": "markdown",
   "metadata": {},
   "source": [
    "## Gradient boosting classifier"
   ]
  },
  {
   "cell_type": "code",
   "execution_count": 57,
   "metadata": {
    "collapsed": true
   },
   "outputs": [],
   "source": [
    "from sklearn.ensemble import GradientBoostingClassifier"
   ]
  },
  {
   "cell_type": "code",
   "execution_count": 89,
   "metadata": {
    "collapsed": false
   },
   "outputs": [
    {
     "name": "stdout",
     "output_type": "stream",
     "text": [
      "CV accuracy 0.494 +/- 0.184\n",
      "  1) PS/G                           0.210798\n",
      "  2) BLK                            0.140636\n",
      "  3) AST                            0.132443\n",
      "  4) FG%                            0.124462\n",
      "  5) TRB                            0.118291\n",
      "  6) 3P                             0.095469\n",
      "  7) TOV                            0.084639\n",
      "  8) FT%                            0.052741\n",
      "  9) STL                            0.040520\n"
     ]
    }
   ],
   "source": [
    "gbe = GradientBoostingClassifier(n_estimators=25, random_state=0)\n",
    "gbefit = gbe.fit(X_train, y_train)\n",
    "scores = cross_val_score(gbefit, X=X_test, y=y_test, cv=10, n_jobs=-1)\n",
    "print('CV accuracy %.3f +/- %.3f' % (np.mean(scores), np.std(scores)))\n",
    "importances = gbefit.feature_importances_\n",
    "indices = np.argsort(importances)[::-1]\n",
    "for f in range(X_train.shape[1]):\n",
    "    print(\"%3d) %-*s %f\" % (f+1, 30, feat_labels[indices[f]], importances[indices[f]]))"
   ]
  },
  {
   "cell_type": "code",
   "execution_count": 90,
   "metadata": {
    "collapsed": false
   },
   "outputs": [
    {
     "name": "stdout",
     "output_type": "stream",
     "text": [
      "{'max_depth': 3, 'n_estimators': 10, 'learning_rate': 0.1}\n",
      "GradientBoostingClassifier(init=None, learning_rate=0.1, loss='deviance',\n",
      "              max_depth=3, max_features=None, max_leaf_nodes=None,\n",
      "              min_samples_leaf=1, min_samples_split=2,\n",
      "              min_weight_fraction_leaf=0.0, n_estimators=10,\n",
      "              presort='auto', random_state=0, subsample=1.0, verbose=0,\n",
      "              warm_start=False)\n",
      "Best score: 0.625\n",
      "CV accuracy 0.462 +/- 0.161\n"
     ]
    }
   ],
   "source": [
    "param_range = [10**-4, 10**-3, 10**-2, 10**-1, 1.0, 10.0, 10**2]\n",
    "param_grid = [{'learning_rate': [10**-4, 10**-3, 10**-2, 10**-1, 1.0, 10.0, 10**2],\n",
    "               'n_estimators': [10, 20, 30, 40, 50],\n",
    "               'max_depth': [2, 3, 4, 5, 6, 10]}]\n",
    "gbe = GradientBoostingClassifier(random_state=0)\n",
    "gs = GridSearchCV(estimator=gbe,\n",
    "                 param_grid=param_grid,\n",
    "                 scoring='accuracy',\n",
    "                 cv=5,\n",
    "                 n_jobs=-1)\n",
    "gsfit = gs.fit(X_train, y_train)\n",
    "print(gsfit.best_params_)\n",
    "print(gsfit.best_estimator_)\n",
    "print('Best score: %.3f' % gsfit.best_score_)\n",
    "scores = cross_val_score(gsfit.best_estimator_, X=X_test, y=y_test, cv=10, n_jobs=-1)\n",
    "print('CV accuracy %.3f +/- %.3f' % (np.mean(scores), np.std(scores)))"
   ]
  },
  {
   "cell_type": "code",
   "execution_count": 91,
   "metadata": {
    "collapsed": false
   },
   "outputs": [
    {
     "data": {
      "image/png": "[encoded data removed]",
      "text/plain": [
       "<matplotlib.figure.Figure at 0x122ab9dd8>"
      ]
     },
     "metadata": {},
     "output_type": "display_data"
    }
   ],
   "source": [
    "from sklearn.ensemble.partial_dependence import plot_partial_dependence\n",
    "import matplotlib.pyplot as plt\n",
    "%matplotlib inline\n",
    "\n",
    "fig, axs = plot_partial_dependence(gbefit, X_train,\n",
    "                                   indices[:5], feature_names=feature_vec, figsize=(10, 10))"
   ]
  },
  {
   "cell_type": "code",
   "execution_count": 92,
   "metadata": {
    "collapsed": false
   },
   "outputs": [
    {
     "name": "stdout",
     "output_type": "stream",
     "text": [
      "delonte's donuts predict win: 0.8167\n",
      "what the blood clot predict win: 0.7853\n",
      "conor's turpentines predict win: 0.7802\n",
      "accidental twitter hog predict win: 0.7683\n",
      "soccer karate predict win: 0.7582\n",
      "conquest pain predict win: 0.7535\n",
      "sami's mannschaft predict win: 0.7482\n",
      "no look no pass predict win: 0.7472\n",
      "ian banh mahinmi predict win: 0.7297\n",
      "paul george, john and ... predict win: 0.7177\n"
     ]
    }
   ],
   "source": [
    "import operator\n",
    "winpct = {}\n",
    "for ros in rosters:\n",
    "    indxs = roster_indices(rosters[ros], ptable)\n",
    "    l, w = gbefit.predict_proba(ss_ptable[indxs, :].mean(0)[np.newaxis, :])[0]\n",
    "    svcl, svcw = svc.predict_proba(ss_ptable[indxs, :].mean(0)[np.newaxis, :])[0]\n",
    "    logl, logw = lr.predict_proba(ss_ptable[indxs, :].mean(0)[np.newaxis, :])[0]\n",
    "    winpct[ros] = np.mean((w, svcw, logw))\n",
    "    #print('%s SVC predict win: %.4f, loss: %.4f' % (ros, w, l))\n",
    "\n",
    "srtd_winpct = sorted(winpct.items(), key=operator.itemgetter(1), reverse=True)\n",
    "for tm in srtd_winpct:\n",
    "    print('%s predict win: %.4f' % (tm[0], tm[1]))"
   ]
  },
  {
   "cell_type": "code",
   "execution_count": 304,
   "metadata": {
    "collapsed": false
   },
   "outputs": [
    {
     "data": {
      "text/plain": [
       "{'accidental twitter hog': 0.83911766427763013,\n",
       " \"conor's turpentines\": 0.84702650962364867,\n",
       " 'conquest pain': 0.81041781215166298,\n",
       " \"delonte's donuts\": 0.85274816939088705,\n",
       " 'ian banh mahinmi': 0.8367356612451694,\n",
       " 'no look no pass': 0.83191510383616096,\n",
       " 'paul george, john and ...': 0.79178039568211711,\n",
       " \"sami's mannschaft\": 0.77539474394912633,\n",
       " 'soccer karate': 0.79693402627361631,\n",
       " 'what the blood clot': 0.73703501564424789}"
      ]
     },
     "execution_count": 304,
     "metadata": {},
     "output_type": "execute_result"
    }
   ],
   "source": []
  }
 ],
 "metadata": {
  "kernelspec": {
   "display_name": "Python 3",
   "language": "python",
   "name": "python3"
  },
  "language_info": {
   "codemirror_mode": {
    "name": "ipython",
    "version": 3
   },
   "file_extension": ".py",
   "mimetype": "text/x-python",
   "name": "python",
   "nbconvert_exporter": "python",
   "pygments_lexer": "ipython3",
   "version": "3.5.1"
  }
 },
 "nbformat": 4,
 "nbformat_minor": 0
}
